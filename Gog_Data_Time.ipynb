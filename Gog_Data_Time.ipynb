{
 "nbformat": 4,
 "nbformat_minor": 0,
 "metadata": {
  "colab": {
   "name": "Gog Data Time.ipynb",
   "provenance": [],
   "collapsed_sections": []
  },
  "kernelspec": {
   "name": "python383jvsc74a57bd0f9db377eb99f2f0001687ee5f0a8c7059c0f00fe46be8b7ead3eb64d7e1b83ff",
   "display_name": "Python 3.8.3 64-bit"
  }
 },
 "cells": [
  {
   "source": [
    "# Data Analysis and Classic Machine Learning Techniques\n",
    "***\n",
    "# Table of Contents\n",
    "1.   [Imports](#Imports)\n",
    "2.   [Loading The Dataset](#Loading-The-Dataset)\n",
    "3.   [Data Analysis](#Data-Analysis)\n",
    "4.   [Data Pre-Processing](#Data-Pre-Processing)\n",
    "4.   [Different Model Comparison](#Different-Model-Comparison)\n",
    "5.   [Support Vector Machine](#Support-Vector-Machine)\n"
   ],
   "cell_type": "markdown",
   "metadata": {
    "pycharm": {
     "name": "#%% md\n"
    }
   }
  },
  {
   "cell_type": "markdown",
   "source": [
    "# Imports\n",
    "\n",
    "The necessary libraries are imported at this stage.\n",
    "\n",
    "* pandas - Dataframe object is useful for data processing and analyses.\n",
    "* sklearn - Provides a number of models, metrics and general functionality for machine learning.\n",
    "* matplotlib - Provides plotting."
   ],
   "metadata": {
    "collapsed": false,
    "pycharm": {
     "name": "#%% md\n"
    }
   }
  },
  {
   "cell_type": "code",
   "metadata": {
    "id": "akA0YSFfzcDV"
   },
   "source": [
    "import pandas as pd\n",
    "from time import time\n",
    "from IPython.display import display # Allows the use of display() for DataFrames\n",
    "#from google.colab import drive #Only needed on Colab\n",
    "import matplotlib.pyplot as plt\n",
    "from sklearn.utils import shuffle\n",
    "from sklearn import preprocessing\n",
    "from sklearn.preprocessing import StandardScaler\n",
    "from sklearn.naive_bayes import GaussianNB\n",
    "from sklearn.ensemble import AdaBoostClassifier\n",
    "from sklearn.svm import SVC\n",
    "from sklearn.metrics import accuracy_score, fbeta_score, precision_score, recall_score, confusion_matrix, plot_confusion_matrix\n",
    "from sklearn.model_selection import GridSearchCV\n",
    "from sklearn.metrics import make_scorer\n",
    "%matplotlib inline # Pretty display for notebooks"
   ],
   "execution_count": 16,
   "outputs": []
  },
  {
   "source": [
    "# Loading The Dataset\n",
    "\n",
    "In this section we load the dataset from the 2 files.\n",
    "\n",
    "The training and testing data are loaded from their respective CSV files using the **Pandas** function *read_csv*. The first row in the two datasets are outputted to ensure that the files were read correctly"
   ],
   "cell_type": "markdown",
   "metadata": {
    "colab": {
     "base_uri": "https://localhost:8080/"
    },
    "id": "gzswijxn_zVI",
    "outputId": "2a6756f3-b504-43b0-a16a-30f5e391c5bd",
    "pycharm": {
     "name": "#%% md\n"
    }
   }
  },
  {
   "cell_type": "code",
   "metadata": {
    "id": "Zc0VwWBv_7Kh"
   },
   "source": [
    "#mount drive\n",
    "#drive.mount(\"/content/drive\")\n",
    "path_to_data = \"\" #\"drive/MyDrive/Kaggle/\"\n",
    "\n",
    "train = pd.read_csv(path_to_data + \"train - OG.csv\")\n",
    "test = pd.read_csv(path_to_data + \"test.csv\")\n",
    "\n",
    "#Check it loaded ok\n",
    "display(train.head(n=1))\n",
    "display(test.head(n=1))"
   ],
   "execution_count": 3,
   "outputs": []
  },
  {
   "cell_type": "markdown",
   "metadata": {
    "id": "EoBpak8yKZ2y",
    "pycharm": {
     "name": "#%% md\n"
    }
   },
   "source": [
    "# Data Analysis\n",
    "\n",
    "In this section analysis over the data is done to determine the processing steps necessary for the [next section](#Data-Pre-Processing).\n",
    "\n",
    "## Check for Common Elements\n",
    "\n",
    "The training and test data are merged using inner join to see if there is any overlapping data. The output is an empty data frame - containing only the list of different features - meaning that there are no intersections between the two."
   ]
  },
  {
   "cell_type": "code",
   "metadata": {
    "colab": {
     "base_uri": "https://localhost:8080/"
    },
    "id": "NOWH0y5AKhgt",
    "outputId": "974f5c95-fc69-4868-b2e8-f7d266f1f0f6",
    "pycharm": {
     "name": "#%%\n"
    }
   },
   "source": [
    "merged = pd.merge(train, test, how='inner')\n",
    "print(merged)"
   ],
   "execution_count": 6,
   "outputs": [
    {
     "output_type": "stream",
     "name": "stdout",
     "text": [
      "Empty DataFrame\nColumns: [tBodyAcc-mean()-X, tBodyAcc-mean()-Y, tBodyAcc-mean()-Z, tBodyAcc-std()-X, tBodyAcc-std()-Y, tBodyAcc-std()-Z, tBodyAcc-mad()-X, tBodyAcc-mad()-Y, tBodyAcc-mad()-Z, tBodyAcc-max()-X, tBodyAcc-max()-Y, tBodyAcc-max()-Z, tBodyAcc-min()-X, tBodyAcc-min()-Y, tBodyAcc-min()-Z, tBodyAcc-sma(), tBodyAcc-energy()-X, tBodyAcc-energy()-Y, tBodyAcc-energy()-Z, tBodyAcc-iqr()-X, tBodyAcc-iqr()-Y, tBodyAcc-iqr()-Z, tBodyAcc-entropy()-X, tBodyAcc-entropy()-Y, tBodyAcc-entropy()-Z, tBodyAcc-arCoeff()-X,1, tBodyAcc-arCoeff()-X,2, tBodyAcc-arCoeff()-X,3, tBodyAcc-arCoeff()-X,4, tBodyAcc-arCoeff()-Y,1, tBodyAcc-arCoeff()-Y,2, tBodyAcc-arCoeff()-Y,3, tBodyAcc-arCoeff()-Y,4, tBodyAcc-arCoeff()-Z,1, tBodyAcc-arCoeff()-Z,2, tBodyAcc-arCoeff()-Z,3, tBodyAcc-arCoeff()-Z,4, tBodyAcc-correlation()-X,Y, tBodyAcc-correlation()-X,Z, tBodyAcc-correlation()-Y,Z, tGravityAcc-mean()-X, tGravityAcc-mean()-Y, tGravityAcc-mean()-Z, tGravityAcc-std()-X, tGravityAcc-std()-Y, tGravityAcc-std()-Z, tGravityAcc-mad()-X, tGravityAcc-mad()-Y, tGravityAcc-mad()-Z, tGravityAcc-max()-X, tGravityAcc-max()-Y, tGravityAcc-max()-Z, tGravityAcc-min()-X, tGravityAcc-min()-Y, tGravityAcc-min()-Z, tGravityAcc-sma(), tGravityAcc-energy()-X, tGravityAcc-energy()-Y, tGravityAcc-energy()-Z, tGravityAcc-iqr()-X, tGravityAcc-iqr()-Y, tGravityAcc-iqr()-Z, tGravityAcc-entropy()-X, tGravityAcc-entropy()-Y, tGravityAcc-entropy()-Z, tGravityAcc-arCoeff()-X,1, tGravityAcc-arCoeff()-X,2, tGravityAcc-arCoeff()-X,3, tGravityAcc-arCoeff()-X,4, tGravityAcc-arCoeff()-Y,1, tGravityAcc-arCoeff()-Y,2, tGravityAcc-arCoeff()-Y,3, tGravityAcc-arCoeff()-Y,4, tGravityAcc-arCoeff()-Z,1, tGravityAcc-arCoeff()-Z,2, tGravityAcc-arCoeff()-Z,3, tGravityAcc-arCoeff()-Z,4, tGravityAcc-correlation()-X,Y, tGravityAcc-correlation()-X,Z, tGravityAcc-correlation()-Y,Z, tBodyAccJerk-mean()-X, tBodyAccJerk-mean()-Y, tBodyAccJerk-mean()-Z, tBodyAccJerk-std()-X, tBodyAccJerk-std()-Y, tBodyAccJerk-std()-Z, tBodyAccJerk-mad()-X, tBodyAccJerk-mad()-Y, tBodyAccJerk-mad()-Z, tBodyAccJerk-max()-X, tBodyAccJerk-max()-Y, tBodyAccJerk-max()-Z, tBodyAccJerk-min()-X, tBodyAccJerk-min()-Y, tBodyAccJerk-min()-Z, tBodyAccJerk-sma(), tBodyAccJerk-energy()-X, tBodyAccJerk-energy()-Y, tBodyAccJerk-energy()-Z, tBodyAccJerk-iqr()-X, ...]\nIndex: []\n\n[0 rows x 563 columns]\n"
     ]
    }
   ]
  },
  {
   "cell_type": "markdown",
   "source": [
    "## Shuffle the data"
   ],
   "metadata": {
    "collapsed": false,
    "pycharm": {
     "name": "#%% md\n"
    }
   }
  },
  {
   "cell_type": "code",
   "metadata": {
    "id": "y9-TOs-YDUQ4"
   },
   "source": [
    "train = shuffle(train)\n",
    "test = shuffle(test)"
   ],
   "execution_count": 7,
   "outputs": []
  },
  {
   "cell_type": "markdown",
   "source": [
    "## Check for null values in rows"
   ],
   "metadata": {
    "collapsed": false,
    "pycharm": {
     "name": "#%% md\n"
    }
   }
  },
  {
   "cell_type": "code",
   "metadata": {
    "colab": {
     "base_uri": "https://localhost:8080/"
    },
    "id": "d16_p0dSDu8H",
    "outputId": "18868a5e-90eb-4248-e4d9-37a2137c3fdd"
   },
   "source": [
    "print(\"Any missing sample in training set:\",train.isnull().values.any())\n",
    "print(\"Any missing sample in test set:\",test.isnull().values.any(), \"\\n\")"
   ],
   "execution_count": 8,
   "outputs": [
    {
     "output_type": "stream",
     "name": "stdout",
     "text": [
      "Any missing sample in training set: False\nAny missing sample in test set: False \n\n"
     ]
    }
   ]
  },
  {
   "source": [
    "## Label Distribution\n",
    "\n",
    "### Label Distribution in a Pie Chart"
   ],
   "cell_type": "markdown",
   "metadata": {
    "pycharm": {
     "name": "#%% md\n"
    }
   }
  },
  {
   "cell_type": "code",
   "metadata": {
    "colab": {
     "base_uri": "https://localhost:8080/",
     "height": 297
    },
    "id": "rEW5LKytELes",
    "outputId": "32fcbf70-664e-4ff4-c1be-1278ce01c83d"
   },
   "source": [
    "# Visualizing Activity Distribution \n",
    "temp = train[\"Activity\"].value_counts()\n",
    "df = pd.DataFrame({'labels': temp.index,\n",
    "                   'values': temp.values\n",
    "                  })\n",
    "\n",
    "labels = df['labels']\n",
    "sizes = df['values']\n",
    "colors = ['yellowgreen', 'gold', 'lightskyblue', 'lightcoral','cyan','lightpink']\n",
    "patches, texts = plt.pie(sizes, colors=colors, shadow=True, startangle=90, pctdistance=1.1, labeldistance=1.2)\n",
    "plt.legend(patches, labels, loc=\"best\")\n",
    "plt.axis('equal')\n",
    "plt.tight_layout()\n",
    "plt.show()"
   ],
   "execution_count": 9,
   "outputs": [
    {
     "output_type": "display_data",
     "data": {
      "text/plain": "<Figure size 432x288 with 1 Axes>",
      "image/svg+xml": "<?xml version=\"1.0\" encoding=\"utf-8\" standalone=\"no\"?>\r\n<!DOCTYPE svg PUBLIC \"-//W3C//DTD SVG 1.1//EN\"\r\n  \"http://www.w3.org/Graphics/SVG/1.1/DTD/svg11.dtd\">\r\n<!-- Created with matplotlib (https://matplotlib.org/) -->\r\n<svg height=\"280.8pt\" version=\"1.1\" viewBox=\"0 0 424.8 280.8\" width=\"424.8pt\" xmlns=\"http://www.w3.org/2000/svg\" xmlns:xlink=\"http://www.w3.org/1999/xlink\">\r\n <metadata>\r\n  <rdf:RDF xmlns:cc=\"http://creativecommons.org/ns#\" xmlns:dc=\"http://purl.org/dc/elements/1.1/\" xmlns:rdf=\"http://www.w3.org/1999/02/22-rdf-syntax-ns#\">\r\n   <cc:Work>\r\n    <dc:type rdf:resource=\"http://purl.org/dc/dcmitype/StillImage\"/>\r\n    <dc:date>2021-04-16T10:22:46.127317</dc:date>\r\n    <dc:format>image/svg+xml</dc:format>\r\n    <dc:creator>\r\n     <cc:Agent>\r\n      <dc:title>Matplotlib v3.3.4, https://matplotlib.org/</dc:title>\r\n     </cc:Agent>\r\n    </dc:creator>\r\n   </cc:Work>\r\n  </rdf:RDF>\r\n </metadata>\r\n <defs>\r\n  <style type=\"text/css\">*{stroke-linecap:butt;stroke-linejoin:round;}</style>\r\n </defs>\r\n <g id=\"figure_1\">\r\n  <g id=\"patch_1\">\r\n   <path d=\"M 0 280.8 \r\nL 424.8 280.8 \r\nL 424.8 0 \r\nL 0 0 \r\nz\r\n\" style=\"fill:none;\"/>\r\n  </g>\r\n  <g id=\"axes_1\">\r\n   <g id=\"patch_2\">\r\n    <path d=\"M 210.471496 21.711345 \r\nC 186.207367 21.711345 162.502861 29.056103 142.493636 42.774047 \r\nC 122.484411 56.49199 107.093446 75.950343 98.356673 98.575133 \r\nL 210.471496 141.824052 \r\nL 210.471496 21.711345 \r\nz\r\n\" style=\"fill:#2e3e0f;opacity:0.5;stroke:#2e3e0f;stroke-linejoin:miter;\"/>\r\n   </g>\r\n   <g id=\"patch_3\">\r\n    <path d=\"M 98.356673 98.575133 \r\nC 89.827722 120.661747 88.019606 144.783344 93.160674 167.893571 \r\nC 98.301743 191.003797 110.16606 212.087023 127.255264 228.480617 \r\nL 210.471496 141.824052 \r\nL 98.356673 98.575133 \r\nz\r\n\" style=\"fill:#4c4000;opacity:0.5;stroke:#4c4000;stroke-linejoin:miter;\"/>\r\n   </g>\r\n   <g id=\"patch_4\">\r\n    <path d=\"M 127.255264 228.480617 \r\nC 143.236034 243.810894 163.150637 254.430778 184.789508 259.161971 \r\nC 206.428379 263.893163 228.96049 262.553966 249.885859 255.292965 \r\nL 210.471496 141.824052 \r\nL 127.255264 228.480617 \r\nz\r\n\" style=\"fill:#283e4b;opacity:0.5;stroke:#283e4b;stroke-linejoin:miter;\"/>\r\n   </g>\r\n   <g id=\"patch_5\">\r\n    <path d=\"M 249.885859 255.292965 \r\nC 269.823712 248.374627 287.5907 236.327352 301.391861 220.368251 \r\nC 315.193022 204.40915 324.547391 185.094391 328.509917 164.375302 \r\nL 210.471496 141.824052 \r\nL 249.885859 255.292965 \r\nz\r\n\" style=\"fill:#482626;opacity:0.5;stroke:#482626;stroke-linejoin:miter;\"/>\r\n   </g>\r\n   <g id=\"patch_6\">\r\n    <path d=\"M 328.509917 164.375302 \r\nC 331.973373 146.265733 331.218828 127.599939 326.304927 109.828662 \r\nC 321.391026 92.057385 312.448462 75.653277 300.172269 61.891298 \r\nL 210.471496 141.824052 \r\nL 328.509917 164.375302 \r\nz\r\n\" style=\"fill:#004c4c;opacity:0.5;stroke:#004c4c;stroke-linejoin:miter;\"/>\r\n   </g>\r\n   <g id=\"patch_7\">\r\n    <path d=\"M 300.172269 61.891298 \r\nC 288.899029 49.25366 275.078635 39.140039 259.620119 32.215656 \r\nC 244.161604 25.291273 227.411489 21.711347 210.471507 21.711345 \r\nL 210.471496 141.824052 \r\nL 300.172269 61.891298 \r\nz\r\n\" style=\"fill:#4c373a;opacity:0.5;stroke:#4c373a;stroke-linejoin:miter;\"/>\r\n   </g>\r\n   <g id=\"patch_8\">\r\n    <path d=\"M 212.875007 19.309091 \r\nC 188.610877 19.309091 164.906371 26.653849 144.897147 40.371792 \r\nC 124.887922 54.089736 109.496956 73.548089 100.760184 96.172878 \r\nL 212.875007 139.421798 \r\nL 212.875007 19.309091 \r\nz\r\n\" style=\"fill:#9acd32;\"/>\r\n   </g>\r\n   <g id=\"patch_9\">\r\n    <path d=\"M 100.760184 96.172878 \r\nC 92.231233 118.259493 90.423117 142.38109 95.564185 165.491316 \r\nC 100.705254 188.601543 112.569571 209.684769 129.658775 226.078363 \r\nL 212.875007 139.421798 \r\nL 100.760184 96.172878 \r\nz\r\n\" style=\"fill:#ffd700;\"/>\r\n   </g>\r\n   <g id=\"patch_10\">\r\n    <path d=\"M 129.658775 226.078363 \r\nC 145.639545 241.40864 165.554148 252.028524 187.193019 256.759717 \r\nC 208.83189 261.490909 231.364001 260.151712 252.289369 252.890711 \r\nL 212.875007 139.421798 \r\nL 129.658775 226.078363 \r\nz\r\n\" style=\"fill:#87cefa;\"/>\r\n   </g>\r\n   <g id=\"patch_11\">\r\n    <path d=\"M 252.289369 252.890711 \r\nC 272.227223 245.972373 289.994211 233.925098 303.795371 217.965997 \r\nC 317.596532 202.006896 326.950902 182.692136 330.913428 161.973048 \r\nL 212.875007 139.421798 \r\nL 252.289369 252.890711 \r\nz\r\n\" style=\"fill:#f08080;\"/>\r\n   </g>\r\n   <g id=\"patch_12\">\r\n    <path d=\"M 330.913428 161.973048 \r\nC 334.376883 143.863479 333.622338 125.197685 328.708438 107.426408 \r\nC 323.794537 89.655131 314.851973 73.251023 302.575779 59.489044 \r\nL 212.875007 139.421798 \r\nL 330.913428 161.973048 \r\nz\r\n\" style=\"fill:#00ffff;\"/>\r\n   </g>\r\n   <g id=\"patch_13\">\r\n    <path d=\"M 302.575779 59.489044 \r\nC 291.302539 46.851406 277.482146 36.737785 262.02363 29.813402 \r\nC 246.565114 22.889019 229.815 19.309092 212.875018 19.309091 \r\nL 212.875007 139.421798 \r\nL 302.575779 59.489044 \r\nz\r\n\" style=\"fill:#ffb6c1;\"/>\r\n   </g>\r\n   <g id=\"matplotlib.axis_1\"/>\r\n   <g id=\"matplotlib.axis_2\"/>\r\n   <g id=\"legend_1\">\r\n    <g id=\"patch_14\">\r\n     <path d=\"M 259.403125 268.6 \r\nL 410.6 268.6 \r\nQ 412.6 268.6 412.6 266.6 \r\nL 412.6 178.975 \r\nQ 412.6 176.975 410.6 176.975 \r\nL 259.403125 176.975 \r\nQ 257.403125 176.975 257.403125 178.975 \r\nL 257.403125 266.6 \r\nQ 257.403125 268.6 259.403125 268.6 \r\nz\r\n\" style=\"fill:#ffffff;opacity:0.8;stroke:#cccccc;stroke-linejoin:miter;\"/>\r\n    </g>\r\n    <g id=\"patch_15\">\r\n     <path d=\"M 261.403125 188.573438 \r\nL 281.403125 188.573438 \r\nL 281.403125 181.573438 \r\nL 261.403125 181.573438 \r\nz\r\n\" style=\"fill:#9acd32;\"/>\r\n    </g>\r\n    <g id=\"text_1\">\r\n     <!-- LAYING -->\r\n     <g transform=\"translate(289.403125 188.573438)scale(0.1 -0.1)\">\r\n      <defs>\r\n       <path d=\"M 9.8125 72.90625 \r\nL 19.671875 72.90625 \r\nL 19.671875 8.296875 \r\nL 55.171875 8.296875 \r\nL 55.171875 0 \r\nL 9.8125 0 \r\nz\r\n\" id=\"DejaVuSans-76\"/>\r\n       <path d=\"M 34.1875 63.1875 \r\nL 20.796875 26.90625 \r\nL 47.609375 26.90625 \r\nz\r\nM 28.609375 72.90625 \r\nL 39.796875 72.90625 \r\nL 67.578125 0 \r\nL 57.328125 0 \r\nL 50.6875 18.703125 \r\nL 17.828125 18.703125 \r\nL 11.1875 0 \r\nL 0.78125 0 \r\nz\r\n\" id=\"DejaVuSans-65\"/>\r\n       <path d=\"M -0.203125 72.90625 \r\nL 10.40625 72.90625 \r\nL 30.609375 42.921875 \r\nL 50.6875 72.90625 \r\nL 61.28125 72.90625 \r\nL 35.5 34.71875 \r\nL 35.5 0 \r\nL 25.59375 0 \r\nL 25.59375 34.71875 \r\nz\r\n\" id=\"DejaVuSans-89\"/>\r\n       <path d=\"M 9.8125 72.90625 \r\nL 19.671875 72.90625 \r\nL 19.671875 0 \r\nL 9.8125 0 \r\nz\r\n\" id=\"DejaVuSans-73\"/>\r\n       <path d=\"M 9.8125 72.90625 \r\nL 23.09375 72.90625 \r\nL 55.421875 11.921875 \r\nL 55.421875 72.90625 \r\nL 64.984375 72.90625 \r\nL 64.984375 0 \r\nL 51.703125 0 \r\nL 19.390625 60.984375 \r\nL 19.390625 0 \r\nL 9.8125 0 \r\nz\r\n\" id=\"DejaVuSans-78\"/>\r\n       <path d=\"M 59.515625 10.40625 \r\nL 59.515625 29.984375 \r\nL 43.40625 29.984375 \r\nL 43.40625 38.09375 \r\nL 69.28125 38.09375 \r\nL 69.28125 6.78125 \r\nQ 63.578125 2.734375 56.6875 0.65625 \r\nQ 49.8125 -1.421875 42 -1.421875 \r\nQ 24.90625 -1.421875 15.25 8.5625 \r\nQ 5.609375 18.5625 5.609375 36.375 \r\nQ 5.609375 54.25 15.25 64.234375 \r\nQ 24.90625 74.21875 42 74.21875 \r\nQ 49.125 74.21875 55.546875 72.453125 \r\nQ 61.96875 70.703125 67.390625 67.28125 \r\nL 67.390625 56.78125 \r\nQ 61.921875 61.421875 55.765625 63.765625 \r\nQ 49.609375 66.109375 42.828125 66.109375 \r\nQ 29.4375 66.109375 22.71875 58.640625 \r\nQ 16.015625 51.171875 16.015625 36.375 \r\nQ 16.015625 21.625 22.71875 14.15625 \r\nQ 29.4375 6.6875 42.828125 6.6875 \r\nQ 48.046875 6.6875 52.140625 7.59375 \r\nQ 56.25 8.5 59.515625 10.40625 \r\nz\r\n\" id=\"DejaVuSans-71\"/>\r\n      </defs>\r\n      <use xlink:href=\"#DejaVuSans-76\"/>\r\n      <use x=\"57.962891\" xlink:href=\"#DejaVuSans-65\"/>\r\n      <use x=\"118.621094\" xlink:href=\"#DejaVuSans-89\"/>\r\n      <use x=\"179.705078\" xlink:href=\"#DejaVuSans-73\"/>\r\n      <use x=\"209.197266\" xlink:href=\"#DejaVuSans-78\"/>\r\n      <use x=\"284.001953\" xlink:href=\"#DejaVuSans-71\"/>\r\n     </g>\r\n    </g>\r\n    <g id=\"patch_16\">\r\n     <path d=\"M 261.403125 203.251563 \r\nL 281.403125 203.251563 \r\nL 281.403125 196.251563 \r\nL 261.403125 196.251563 \r\nz\r\n\" style=\"fill:#ffd700;\"/>\r\n    </g>\r\n    <g id=\"text_2\">\r\n     <!-- STANDING -->\r\n     <g transform=\"translate(289.403125 203.251563)scale(0.1 -0.1)\">\r\n      <defs>\r\n       <path d=\"M 53.515625 70.515625 \r\nL 53.515625 60.890625 \r\nQ 47.90625 63.578125 42.921875 64.890625 \r\nQ 37.9375 66.21875 33.296875 66.21875 \r\nQ 25.25 66.21875 20.875 63.09375 \r\nQ 16.5 59.96875 16.5 54.203125 \r\nQ 16.5 49.359375 19.40625 46.890625 \r\nQ 22.3125 44.4375 30.421875 42.921875 \r\nL 36.375 41.703125 \r\nQ 47.40625 39.59375 52.65625 34.296875 \r\nQ 57.90625 29 57.90625 20.125 \r\nQ 57.90625 9.515625 50.796875 4.046875 \r\nQ 43.703125 -1.421875 29.984375 -1.421875 \r\nQ 24.8125 -1.421875 18.96875 -0.25 \r\nQ 13.140625 0.921875 6.890625 3.21875 \r\nL 6.890625 13.375 \r\nQ 12.890625 10.015625 18.65625 8.296875 \r\nQ 24.421875 6.59375 29.984375 6.59375 \r\nQ 38.421875 6.59375 43.015625 9.90625 \r\nQ 47.609375 13.234375 47.609375 19.390625 \r\nQ 47.609375 24.75 44.3125 27.78125 \r\nQ 41.015625 30.8125 33.5 32.328125 \r\nL 27.484375 33.5 \r\nQ 16.453125 35.6875 11.515625 40.375 \r\nQ 6.59375 45.0625 6.59375 53.421875 \r\nQ 6.59375 63.09375 13.40625 68.65625 \r\nQ 20.21875 74.21875 32.171875 74.21875 \r\nQ 37.3125 74.21875 42.625 73.28125 \r\nQ 47.953125 72.359375 53.515625 70.515625 \r\nz\r\n\" id=\"DejaVuSans-83\"/>\r\n       <path d=\"M -0.296875 72.90625 \r\nL 61.375 72.90625 \r\nL 61.375 64.59375 \r\nL 35.5 64.59375 \r\nL 35.5 0 \r\nL 25.59375 0 \r\nL 25.59375 64.59375 \r\nL -0.296875 64.59375 \r\nz\r\n\" id=\"DejaVuSans-84\"/>\r\n       <path d=\"M 19.671875 64.796875 \r\nL 19.671875 8.109375 \r\nL 31.59375 8.109375 \r\nQ 46.6875 8.109375 53.6875 14.9375 \r\nQ 60.6875 21.78125 60.6875 36.53125 \r\nQ 60.6875 51.171875 53.6875 57.984375 \r\nQ 46.6875 64.796875 31.59375 64.796875 \r\nz\r\nM 9.8125 72.90625 \r\nL 30.078125 72.90625 \r\nQ 51.265625 72.90625 61.171875 64.09375 \r\nQ 71.09375 55.28125 71.09375 36.53125 \r\nQ 71.09375 17.671875 61.125 8.828125 \r\nQ 51.171875 0 30.078125 0 \r\nL 9.8125 0 \r\nz\r\n\" id=\"DejaVuSans-68\"/>\r\n      </defs>\r\n      <use xlink:href=\"#DejaVuSans-83\"/>\r\n      <use x=\"63.476562\" xlink:href=\"#DejaVuSans-84\"/>\r\n      <use x=\"116.810547\" xlink:href=\"#DejaVuSans-65\"/>\r\n      <use x=\"185.21875\" xlink:href=\"#DejaVuSans-78\"/>\r\n      <use x=\"260.023438\" xlink:href=\"#DejaVuSans-68\"/>\r\n      <use x=\"337.025391\" xlink:href=\"#DejaVuSans-73\"/>\r\n      <use x=\"366.517578\" xlink:href=\"#DejaVuSans-78\"/>\r\n      <use x=\"441.322266\" xlink:href=\"#DejaVuSans-71\"/>\r\n     </g>\r\n    </g>\r\n    <g id=\"patch_17\">\r\n     <path d=\"M 261.403125 217.929688 \r\nL 281.403125 217.929688 \r\nL 281.403125 210.929688 \r\nL 261.403125 210.929688 \r\nz\r\n\" style=\"fill:#87cefa;\"/>\r\n    </g>\r\n    <g id=\"text_3\">\r\n     <!-- SITTING -->\r\n     <g transform=\"translate(289.403125 217.929688)scale(0.1 -0.1)\">\r\n      <use xlink:href=\"#DejaVuSans-83\"/>\r\n      <use x=\"63.476562\" xlink:href=\"#DejaVuSans-73\"/>\r\n      <use x=\"92.96875\" xlink:href=\"#DejaVuSans-84\"/>\r\n      <use x=\"152.302734\" xlink:href=\"#DejaVuSans-84\"/>\r\n      <use x=\"213.386719\" xlink:href=\"#DejaVuSans-73\"/>\r\n      <use x=\"242.878906\" xlink:href=\"#DejaVuSans-78\"/>\r\n      <use x=\"317.683594\" xlink:href=\"#DejaVuSans-71\"/>\r\n     </g>\r\n    </g>\r\n    <g id=\"patch_18\">\r\n     <path d=\"M 261.403125 232.607813 \r\nL 281.403125 232.607813 \r\nL 281.403125 225.607813 \r\nL 261.403125 225.607813 \r\nz\r\n\" style=\"fill:#f08080;\"/>\r\n    </g>\r\n    <g id=\"text_4\">\r\n     <!-- WALKING -->\r\n     <g transform=\"translate(289.403125 232.607813)scale(0.1 -0.1)\">\r\n      <defs>\r\n       <path d=\"M 3.328125 72.90625 \r\nL 13.28125 72.90625 \r\nL 28.609375 11.28125 \r\nL 43.890625 72.90625 \r\nL 54.984375 72.90625 \r\nL 70.3125 11.28125 \r\nL 85.59375 72.90625 \r\nL 95.609375 72.90625 \r\nL 77.296875 0 \r\nL 64.890625 0 \r\nL 49.515625 63.28125 \r\nL 33.984375 0 \r\nL 21.578125 0 \r\nz\r\n\" id=\"DejaVuSans-87\"/>\r\n       <path d=\"M 9.8125 72.90625 \r\nL 19.671875 72.90625 \r\nL 19.671875 42.09375 \r\nL 52.390625 72.90625 \r\nL 65.09375 72.90625 \r\nL 28.90625 38.921875 \r\nL 67.671875 0 \r\nL 54.6875 0 \r\nL 19.671875 35.109375 \r\nL 19.671875 0 \r\nL 9.8125 0 \r\nz\r\n\" id=\"DejaVuSans-75\"/>\r\n      </defs>\r\n      <use xlink:href=\"#DejaVuSans-87\"/>\r\n      <use x=\"93.376953\" xlink:href=\"#DejaVuSans-65\"/>\r\n      <use x=\"161.785156\" xlink:href=\"#DejaVuSans-76\"/>\r\n      <use x=\"217.498047\" xlink:href=\"#DejaVuSans-75\"/>\r\n      <use x=\"283.074219\" xlink:href=\"#DejaVuSans-73\"/>\r\n      <use x=\"312.566406\" xlink:href=\"#DejaVuSans-78\"/>\r\n      <use x=\"387.371094\" xlink:href=\"#DejaVuSans-71\"/>\r\n     </g>\r\n    </g>\r\n    <g id=\"patch_19\">\r\n     <path d=\"M 261.403125 247.285938 \r\nL 281.403125 247.285938 \r\nL 281.403125 240.285938 \r\nL 261.403125 240.285938 \r\nz\r\n\" style=\"fill:#00ffff;\"/>\r\n    </g>\r\n    <g id=\"text_5\">\r\n     <!-- WALKING_UPSTAIRS -->\r\n     <g transform=\"translate(289.403125 247.285938)scale(0.1 -0.1)\">\r\n      <defs>\r\n       <path d=\"M 50.984375 -16.609375 \r\nL 50.984375 -23.578125 \r\nL -0.984375 -23.578125 \r\nL -0.984375 -16.609375 \r\nz\r\n\" id=\"DejaVuSans-95\"/>\r\n       <path d=\"M 8.6875 72.90625 \r\nL 18.609375 72.90625 \r\nL 18.609375 28.609375 \r\nQ 18.609375 16.890625 22.84375 11.734375 \r\nQ 27.09375 6.59375 36.625 6.59375 \r\nQ 46.09375 6.59375 50.34375 11.734375 \r\nQ 54.59375 16.890625 54.59375 28.609375 \r\nL 54.59375 72.90625 \r\nL 64.5 72.90625 \r\nL 64.5 27.390625 \r\nQ 64.5 13.140625 57.4375 5.859375 \r\nQ 50.390625 -1.421875 36.625 -1.421875 \r\nQ 22.796875 -1.421875 15.734375 5.859375 \r\nQ 8.6875 13.140625 8.6875 27.390625 \r\nz\r\n\" id=\"DejaVuSans-85\"/>\r\n       <path d=\"M 19.671875 64.796875 \r\nL 19.671875 37.40625 \r\nL 32.078125 37.40625 \r\nQ 38.96875 37.40625 42.71875 40.96875 \r\nQ 46.484375 44.53125 46.484375 51.125 \r\nQ 46.484375 57.671875 42.71875 61.234375 \r\nQ 38.96875 64.796875 32.078125 64.796875 \r\nz\r\nM 9.8125 72.90625 \r\nL 32.078125 72.90625 \r\nQ 44.34375 72.90625 50.609375 67.359375 \r\nQ 56.890625 61.8125 56.890625 51.125 \r\nQ 56.890625 40.328125 50.609375 34.8125 \r\nQ 44.34375 29.296875 32.078125 29.296875 \r\nL 19.671875 29.296875 \r\nL 19.671875 0 \r\nL 9.8125 0 \r\nz\r\n\" id=\"DejaVuSans-80\"/>\r\n       <path d=\"M 44.390625 34.1875 \r\nQ 47.5625 33.109375 50.5625 29.59375 \r\nQ 53.5625 26.078125 56.59375 19.921875 \r\nL 66.609375 0 \r\nL 56 0 \r\nL 46.6875 18.703125 \r\nQ 43.0625 26.03125 39.671875 28.421875 \r\nQ 36.28125 30.8125 30.421875 30.8125 \r\nL 19.671875 30.8125 \r\nL 19.671875 0 \r\nL 9.8125 0 \r\nL 9.8125 72.90625 \r\nL 32.078125 72.90625 \r\nQ 44.578125 72.90625 50.734375 67.671875 \r\nQ 56.890625 62.453125 56.890625 51.90625 \r\nQ 56.890625 45.015625 53.6875 40.46875 \r\nQ 50.484375 35.9375 44.390625 34.1875 \r\nz\r\nM 19.671875 64.796875 \r\nL 19.671875 38.921875 \r\nL 32.078125 38.921875 \r\nQ 39.203125 38.921875 42.84375 42.21875 \r\nQ 46.484375 45.515625 46.484375 51.90625 \r\nQ 46.484375 58.296875 42.84375 61.546875 \r\nQ 39.203125 64.796875 32.078125 64.796875 \r\nz\r\n\" id=\"DejaVuSans-82\"/>\r\n      </defs>\r\n      <use xlink:href=\"#DejaVuSans-87\"/>\r\n      <use x=\"93.376953\" xlink:href=\"#DejaVuSans-65\"/>\r\n      <use x=\"161.785156\" xlink:href=\"#DejaVuSans-76\"/>\r\n      <use x=\"217.498047\" xlink:href=\"#DejaVuSans-75\"/>\r\n      <use x=\"283.074219\" xlink:href=\"#DejaVuSans-73\"/>\r\n      <use x=\"312.566406\" xlink:href=\"#DejaVuSans-78\"/>\r\n      <use x=\"387.371094\" xlink:href=\"#DejaVuSans-71\"/>\r\n      <use x=\"464.861328\" xlink:href=\"#DejaVuSans-95\"/>\r\n      <use x=\"514.861328\" xlink:href=\"#DejaVuSans-85\"/>\r\n      <use x=\"588.054688\" xlink:href=\"#DejaVuSans-80\"/>\r\n      <use x=\"648.357422\" xlink:href=\"#DejaVuSans-83\"/>\r\n      <use x=\"711.833984\" xlink:href=\"#DejaVuSans-84\"/>\r\n      <use x=\"765.167969\" xlink:href=\"#DejaVuSans-65\"/>\r\n      <use x=\"833.576172\" xlink:href=\"#DejaVuSans-73\"/>\r\n      <use x=\"863.068359\" xlink:href=\"#DejaVuSans-82\"/>\r\n      <use x=\"932.550781\" xlink:href=\"#DejaVuSans-83\"/>\r\n     </g>\r\n    </g>\r\n    <g id=\"patch_20\">\r\n     <path d=\"M 261.403125 262.242188 \r\nL 281.403125 262.242188 \r\nL 281.403125 255.242188 \r\nL 261.403125 255.242188 \r\nz\r\n\" style=\"fill:#ffb6c1;\"/>\r\n    </g>\r\n    <g id=\"text_6\">\r\n     <!-- WALKING_DOWNSTAIRS -->\r\n     <g transform=\"translate(289.403125 262.242188)scale(0.1 -0.1)\">\r\n      <defs>\r\n       <path d=\"M 39.40625 66.21875 \r\nQ 28.65625 66.21875 22.328125 58.203125 \r\nQ 16.015625 50.203125 16.015625 36.375 \r\nQ 16.015625 22.609375 22.328125 14.59375 \r\nQ 28.65625 6.59375 39.40625 6.59375 \r\nQ 50.140625 6.59375 56.421875 14.59375 \r\nQ 62.703125 22.609375 62.703125 36.375 \r\nQ 62.703125 50.203125 56.421875 58.203125 \r\nQ 50.140625 66.21875 39.40625 66.21875 \r\nz\r\nM 39.40625 74.21875 \r\nQ 54.734375 74.21875 63.90625 63.9375 \r\nQ 73.09375 53.65625 73.09375 36.375 \r\nQ 73.09375 19.140625 63.90625 8.859375 \r\nQ 54.734375 -1.421875 39.40625 -1.421875 \r\nQ 24.03125 -1.421875 14.8125 8.828125 \r\nQ 5.609375 19.09375 5.609375 36.375 \r\nQ 5.609375 53.65625 14.8125 63.9375 \r\nQ 24.03125 74.21875 39.40625 74.21875 \r\nz\r\n\" id=\"DejaVuSans-79\"/>\r\n      </defs>\r\n      <use xlink:href=\"#DejaVuSans-87\"/>\r\n      <use x=\"93.376953\" xlink:href=\"#DejaVuSans-65\"/>\r\n      <use x=\"161.785156\" xlink:href=\"#DejaVuSans-76\"/>\r\n      <use x=\"217.498047\" xlink:href=\"#DejaVuSans-75\"/>\r\n      <use x=\"283.074219\" xlink:href=\"#DejaVuSans-73\"/>\r\n      <use x=\"312.566406\" xlink:href=\"#DejaVuSans-78\"/>\r\n      <use x=\"387.371094\" xlink:href=\"#DejaVuSans-71\"/>\r\n      <use x=\"464.861328\" xlink:href=\"#DejaVuSans-95\"/>\r\n      <use x=\"514.861328\" xlink:href=\"#DejaVuSans-68\"/>\r\n      <use x=\"591.863281\" xlink:href=\"#DejaVuSans-79\"/>\r\n      <use x=\"670.574219\" xlink:href=\"#DejaVuSans-87\"/>\r\n      <use x=\"769.451172\" xlink:href=\"#DejaVuSans-78\"/>\r\n      <use x=\"844.255859\" xlink:href=\"#DejaVuSans-83\"/>\r\n      <use x=\"907.732422\" xlink:href=\"#DejaVuSans-84\"/>\r\n      <use x=\"961.066406\" xlink:href=\"#DejaVuSans-65\"/>\r\n      <use x=\"1029.474609\" xlink:href=\"#DejaVuSans-73\"/>\r\n      <use x=\"1058.966797\" xlink:href=\"#DejaVuSans-82\"/>\r\n      <use x=\"1128.449219\" xlink:href=\"#DejaVuSans-83\"/>\r\n     </g>\r\n    </g>\r\n   </g>\r\n  </g>\r\n </g>\r\n</svg>\r\n",
      "image/png": "[encoded data removed]"
     },
     "metadata": {}
    }
   ]
  },
  {
   "cell_type": "markdown",
   "source": [
    "### Label Distribution in a Column Format"
   ],
   "metadata": {
    "collapsed": false,
    "pycharm": {
     "name": "#%% md\n"
    }
   }
  },
  {
   "cell_type": "code",
   "metadata": {
    "colab": {
     "base_uri": "https://localhost:8080/",
     "height": 258
    },
    "id": "H97pt8COE4YD",
    "outputId": "bdd9e976-c93a-46e4-e9a7-5ffe2101a2c0"
   },
   "source": [
    "train_outcome = pd.crosstab(index=train[\"Activity\"],\n",
    "                              columns=\"count\")\n",
    "\n",
    "train_outcome"
   ],
   "execution_count": 10,
   "outputs": [
    {
     "output_type": "execute_result",
     "data": {
      "text/plain": [
       "col_0               count\n",
       "Activity                 \n",
       "LAYING               1407\n",
       "SITTING              1286\n",
       "STANDING             1374\n",
       "WALKING              1226\n",
       "WALKING_DOWNSTAIRS    986\n",
       "WALKING_UPSTAIRS     1073"
      ],
      "text/html": "<div>\n<style scoped>\n    .dataframe tbody tr th:only-of-type {\n        vertical-align: middle;\n    }\n\n    .dataframe tbody tr th {\n        vertical-align: top;\n    }\n\n    .dataframe thead th {\n        text-align: right;\n    }\n</style>\n<table border=\"1\" class=\"dataframe\">\n  <thead>\n    <tr style=\"text-align: right;\">\n      <th>col_0</th>\n      <th>count</th>\n    </tr>\n    <tr>\n      <th>Activity</th>\n      <th></th>\n    </tr>\n  </thead>\n  <tbody>\n    <tr>\n      <th>LAYING</th>\n      <td>1407</td>\n    </tr>\n    <tr>\n      <th>SITTING</th>\n      <td>1286</td>\n    </tr>\n    <tr>\n      <th>STANDING</th>\n      <td>1374</td>\n    </tr>\n    <tr>\n      <th>WALKING</th>\n      <td>1226</td>\n    </tr>\n    <tr>\n      <th>WALKING_DOWNSTAIRS</th>\n      <td>986</td>\n    </tr>\n    <tr>\n      <th>WALKING_UPSTAIRS</th>\n      <td>1073</td>\n    </tr>\n  </tbody>\n</table>\n</div>"
     },
     "metadata": {},
     "execution_count": 10
    }
   ]
  },
  {
   "cell_type": "markdown",
   "metadata": {
    "id": "rM3pd6QJTNXY"
   },
   "source": [
    "# Data Pre-Processing\n",
    "\n",
    "The dataset only requires a small number of pre-processing mainly, splitting the sets into X and y variables, categorical\n",
    "variable encoding (for the label), and scaling.\n",
    "\n",
    "The *activity* and *subject* columns are removed from the training and test data. **Y_train_label** and **Y_test_label** are the classifications of the activity of each row in the respective dataframes."
   ]
  },
  {
   "cell_type": "code",
   "metadata": {
    "colab": {
     "base_uri": "https://localhost:8080/"
    },
    "id": "NPmMO9QdTEiv",
    "outputId": "d9677c3b-7129-4889-b5f8-c5ee19a39ba5"
   },
   "source": [
    "X_train = pd.DataFrame(train.drop(['Activity','subject'],axis=1))\n",
    "Y_train_label = train.Activity.values.astype(object)\n",
    "X_test = pd.DataFrame(test.drop(['Activity','subject'],axis=1))\n",
    "Y_test_label = test.Activity.values.astype(object)\n",
    "\n",
    "print(\"Dimension of Train set\",X_train.shape)\n",
    "print(\"Dimension of Test set\",X_test.shape,\"\\n\")\n",
    "\n",
    "# Transforming non numerical labels into numerical labels\n",
    "encoder = preprocessing.LabelEncoder()\n",
    "\n",
    "# encoding train labels \n",
    "encoder.fit(Y_train_label)\n",
    "Y_train = encoder.transform(Y_train_label)\n",
    "\n",
    "# encoding test labels \n",
    "encoder.fit(Y_test_label)\n",
    "Y_test = encoder.transform(Y_test_label)\n",
    "\n",
    "#Total Number of Continuous features in the training set\n",
    "num_cols = X_train._get_numeric_data().columns\n",
    "print(\"Number of Continuous Features:\",num_cols.size)\n",
    "\n",
    "#names_of_predictors = list(X_train.columns.values) #Names of each feature\n",
    "\n",
    "# Scaling the Train and Test feature set \n",
    "# Because - values and classification\n",
    "scaler = StandardScaler()\n",
    "X_train_scaled = scaler.fit_transform(X_train) #fit_transform is performed on training data\n",
    "X_test_scaled = scaler.transform(X_test) #transform is performed on test data"
   ],
   "execution_count": 11,
   "outputs": [
    {
     "output_type": "stream",
     "name": "stdout",
     "text": [
      "Dimension of Train set (7352, 561)\nDimension of Test set (2947, 561) \n\nNumber of numeric features: 561\n"
     ]
    }
   ]
  },
  {
   "cell_type": "markdown",
   "source": [
    "# Different Model Comparison\n",
    "\n",
    "In this step we compare 3 classic ml models."
   ],
   "metadata": {
    "collapsed": false,
    "pycharm": {
     "name": "#%% md\n"
    }
   }
  },
  {
   "cell_type": "code",
   "metadata": {
    "colab": {
     "base_uri": "https://localhost:8080/"
    },
    "id": "P3npv0F6bmwJ",
    "outputId": "978124a1-0977-4ccb-b3ae-6a0c58c00e3f"
   },
   "source": [
    "clf_A = GaussianNB()\n",
    "clf_B = AdaBoostClassifier(random_state=0)\n",
    "clf_C = SVC(random_state=0)\n",
    "\n",
    "learners = {}\n",
    "learners[\"Gaussian Naive Bayes\"] = clf_A\n",
    "learners[\"AdaBoost\"] = clf_B\n",
    "learners[\"Support Vector Machine\"] = clf_C\n",
    "\n",
    "def train_predict(learners, X_train, y_train, X_test, y_test):\n",
    "  for learner in learners:\n",
    "    print(\"Learner:\", learner,\"\\n------\")\n",
    "    print(\"Training Data\")\n",
    "    start = time()\n",
    "    learners[learner].fit(X_train, y_train)\n",
    "    end = time() \n",
    "    print(\"Time taken:\", end-start, \"seconds\")\n",
    "\n",
    "    print(\"Testing Data\")\n",
    "    start = time()\n",
    "    predictions_test = learners[learner].predict(X_test)\n",
    "    end = time()\n",
    "    print(\"Time taken:\", end-start, \"seconds\")\n",
    "\n",
    "    \n",
    "    print(\"\\nAccuracy Score\")\n",
    "    print(accuracy_score(y_test,predictions_test))\n",
    "    \n",
    "    print(\"\\nBeta Score\")\n",
    "    print(fbeta_score(y_test,predictions_test,beta=0.5,average='weighted'))\n",
    "\n",
    "    print(\"\\nPrecision Score\")\n",
    "    print(precision_score(y_test, predictions_test, average='weighted'))\n",
    "\n",
    "    print(\"\\nRecall Score\")\n",
    "    print(recall_score(y_test, predictions_test, average='weighted'),'\\n')\n",
    "\n",
    "train_predict(learners, X_train_scaled, Y_train, X_test_scaled, Y_test)"
   ],
   "execution_count": 12,
   "outputs": [
    {
     "output_type": "stream",
     "name": "stdout",
     "text": [
      "Learner: Gaussian Naive Bayes \n",
      "------\n",
      "Training Data\n",
      "Time taken: 0.08500099182128906 seconds\n",
      "Testing Data\n",
      "Time taken: 0.08199787139892578 seconds\n",
      "\n",
      "Accuracy Score\n",
      "0.7702748557855447\n",
      "\n",
      "Beta Score\n",
      "0.7802673518256884\n",
      "\n",
      "Precision Score\n",
      "0.7946833707399261\n",
      "\n",
      "Recall Score\n",
      "0.7702748557855447 \n",
      "\n",
      "Learner: AdaBoost \n",
      "------\n",
      "Training Data\n",
      "Time taken: 19.716001987457275 seconds\n",
      "Testing Data\n",
      "Time taken: 0.22099876403808594 seconds\n",
      "\n",
      "Accuracy Score\n",
      "0.5310485239226331\n",
      "\n",
      "Beta Score\n",
      "0.35512687797924963\n",
      "\n",
      "Precision Score\n",
      "0.33628556107901597\n",
      "\n",
      "Recall Score\n",
      "0.5310485239226331 \n",
      "\n",
      "Learner: Support Vector Machine \n",
      "------\n",
      "Training Data\n",
      "C:\\Users\\Jake Sant\\AppData\\Local\\Programs\\Python\\Python38\\lib\\site-packages\\sklearn\\metrics\\_classification.py:1245: UndefinedMetricWarning: Precision is ill-defined and being set to 0.0 in labels with no predicted samples. Use `zero_division` parameter to control this behavior.\n",
      "  _warn_prf(average, modifier, msg_start, len(result))\n",
      "Time taken: 2.405998468399048 seconds\n",
      "Testing Data\n",
      "Time taken: 1.710000991821289 seconds\n",
      "\n",
      "Accuracy Score\n",
      "0.9518154054971157\n",
      "\n",
      "Beta Score\n",
      "0.9519494451924377\n",
      "\n",
      "Precision Score\n",
      "0.9522363133649081\n",
      "\n",
      "Recall Score\n",
      "0.9518154054971157 \n",
      "\n"
     ]
    }
   ]
  },
  {
   "source": [
    "As can be seen from the above metrics, SVM is quite clearly the most accurate classifier of the three, and it is for that reason that we will use it as one of the main classifiers for the group practical task"
   ],
   "cell_type": "markdown",
   "metadata": {
    "pycharm": {
     "name": "#%% md\n"
    }
   }
  },
  {
   "cell_type": "markdown",
   "source": [
    "# Support Vector Classifier\n",
    "\n",
    "There are a number of different parameters we can apply to SVC in order to obtain the best results possible. These different parameters were passed through a Grid Search model, which applies all of them to train various SVCs."
   ],
   "metadata": {
    "collapsed": false
   }
  },
  {
   "cell_type": "code",
   "execution_count": null,
   "outputs": [],
   "source": [
    "clf = SVC(random_state=0)\n",
    "\n",
    "parameters =    {\n",
    "                \"kernel\": ['poly', 'rbf', 'sigmoid'],\n",
    "                \"C\": [50, 10, 1.0, 0.1, 0.01],\n",
    "                \"gamma\": ['scale']\n",
    "                }\n",
    "\n",
    "scorer = make_scorer(fbeta_score, beta=0.5,average='weighted')\n",
    "grid_obj = GridSearchCV(clf, parameters, scoring=scorer)\n",
    "grid_fit = grid_obj.fit(X_train_scaled,Y_train)\n",
    "\n",
    "# Get the estimator\n",
    "best_clf = grid_fit.best_estimator_\n",
    "clf.fit(X_train_scaled, Y_train)\n",
    "# Make predictions using the unoptimized and model\n",
    "predictions = clf.predict(X_test)\n",
    "best_predictions = best_clf.predict(X_test_scaled)\n",
    "\n",
    "# Report the before-and-afterscores\n",
    "print(\"Unoptimized model\\n------\")\n",
    "print(\"Accuracy score on the testing data: {:.4f}\".format(accuracy_score(Y_test, predictions)))\n",
    "print(\"F-score on the testing data: {:.4f}\".format(fbeta_score(Y_test, predictions, beta = 0.5,average='weighted')))\n",
    "print(\"Precision score on the testing data: {:.4f}\".format(precision_score(Y_test, predictions, average='weighted')))\n",
    "print(\"Recall score on the testing data: {:.4f}\".format(recall_score(Y_test, predictions, average='weighted')))\n",
    "print(\"\\nOptimized Model\\n------\")\n",
    "print(\"Final accuracy score on the testing data: {:.4f}\".format(accuracy_score(Y_test, best_predictions)))\n",
    "print(\"Final F-score on the testing data: {:.4f}\".format(fbeta_score(Y_test, best_predictions, beta = 0.5,average='weighted')))\n",
    "print(\"Final precision score on the testing data: {:.4f}\".format(precision_score(Y_test, best_predictions, average='weighted')))\n",
    "print(\"Final recall score on the testing data: {:.4f}\".format(recall_score(Y_test, best_predictions, average='weighted')))"
   ],
   "metadata": {
    "collapsed": false,
    "pycharm": {
     "name": "#%%\n"
    }
   }
  },
  {
   "cell_type": "code",
   "execution_count": null,
   "outputs": [],
   "source": [
    "#Confusion Matrix maps out the predicted label given to the data with the actual label\n",
    "#Helps us check the rate of true/false positives and true/false negatives\n",
    "#parameters are the true labels, and the predicted labels\n",
    "\n",
    "print(confusion_matrix(Y_test, best_predictions))\n",
    "fig, ax = plt.subplots(figsize=(20, 9))\n",
    "plt.rcParams.update({'font.size': 8})\n",
    "plot_confusion_matrix(estimator=best_clf, X=X_test_scaled, y_true=Y_test, display_labels=labels, ax=ax, cmap='Greens')\n",
    "plt.show()"
   ],
   "metadata": {
    "collapsed": false,
    "pycharm": {
     "name": "#%%\n"
    }
   }
  },
  {
   "cell_type": "code",
   "execution_count": null,
   "outputs": [],
   "source": [
    "print(\"The best parameters were:\", grid_fit.best_params_)\n"
   ],
   "metadata": {
    "collapsed": false,
    "pycharm": {
     "name": "#%%\n"
    }
   }
  }
 ]
}