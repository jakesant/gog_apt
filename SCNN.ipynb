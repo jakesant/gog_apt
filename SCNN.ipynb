{
 "cells": [
  {
   "cell_type": "markdown",
   "source": [
    "# Static Convolutional Neural Network\n",
    "***\n",
    "# Table of Contents\n",
    "1.   [Imports](#Imports)\n",
    "2.   [Dataset Object](#Dataset-Object)\n",
    "3.   [Data Loading](#Data-Loading)\n",
    "4.   [Model](#Model)\n",
    "5.   [Setup](#Setup)\n",
    "6.   [Training](#Training)\n",
    "7.   [Testing](#Testing)"
   ],
   "metadata": {
    "collapsed": false
   }
  },
  {
   "cell_type": "markdown",
   "source": [
    "# Imports\n",
    "\n",
    "The necessary libraries are imported at this stage.\n",
    "\n",
    "* torch - Python pytorch library used to create and train the CNN\n",
    "* numpy - Efficient data arrays\n",
    "* pandas - Data applications\n",
    "* sklearn - Provides a number of models, metrics and general functionality for machine learning.\n",
    "* matplotlib - Provides plotting."
   ],
   "metadata": {
    "collapsed": false
   }
  },
  {
   "cell_type": "code",
   "execution_count": 1,
   "metadata": {},
   "outputs": [],
   "source": [
    "import torch\n",
    "import numpy as np\n",
    "import pandas as pd\n",
    "from torch.nn import Linear, ReLU, Flatten, Sequential, Conv1d, Module, CrossEntropyLoss, Dropout, Softmax\n",
    "from torch.optim import Adam\n",
    "from torch.utils.data import Dataset\n",
    "from sklearn.metrics import accuracy_score, fbeta_score, precision_score, recall_score, confusion_matrix\n",
    "import itertools\n",
    "import matplotlib.pyplot as plt"
   ]
  },
  {
   "cell_type": "markdown",
   "source": [
    "# Dataset Object\n",
    "\n",
    "Although not fully required it is helpful to create a custom torch.utils.data.Dataset when using the pytorch library.\n",
    "This makes the splitting and feeding of data into the network easier.\n",
    "\n",
    "## Encoding\n",
    "\n",
    "A dict is defined 0-2 for the Static activities in the dataset."
   ],
   "metadata": {
    "collapsed": false
   }
  },
  {
   "cell_type": "code",
   "execution_count": 2,
   "metadata": {},
   "outputs": [],
   "source": [
    "activity_encode = {\n",
    "        \"LAYING\":0,\n",
    "       \"SITTING\":1,\n",
    "       \"STANDING\":2,\n",
    "        \"WALKING\":3,\n",
    "       \"WALKING_DOWNSTAIRS\":4,\n",
    "       \"WALKING_UPSTAIRS\":5\n",
    "       }"
   ]
  },
  {
   "cell_type": "markdown",
   "source": [
    "## Dataset\n",
    "\n",
    "The object is defined as below for the UCI dataset. 3 functions need to be implemented **__init__**, **__len__** and\n",
    "**__getitem__**.\n",
    "\n",
    "In initialisation the data is split into X and y variables and turned into tensors.\n",
    "\n",
    "The X variable has shape (row_count, 1, feature_count). 1 since there is only one channel of data.\n",
    "\n",
    "The dynamic features are removed."
   ],
   "metadata": {
    "collapsed": false
   }
  },
  {
   "cell_type": "code",
   "execution_count": 3,
   "metadata": {},
   "outputs": [],
   "source": [
    "class UCI_Static_Dataset(Dataset):\n",
    "    \"\"\"UCI dataset.\"\"\"\n",
    "\n",
    "    def __init__(self, csv_file):\n",
    "\n",
    "        data = pd.read_csv(csv_file)\n",
    "        data['Activity'] = data['Activity'].map(activity_encode)\n",
    "        data, _ = [x for _, x in data.groupby(data['Activity'] > 2)]\n",
    "        self.data_y = data['Activity'].values\n",
    "        data = pd.DataFrame(data.drop(['Activity','subject'],axis=1))\n",
    "        self.data_x = np.array(data)\n",
    "        # [batch, channels, features]\n",
    "        self.data_x = self.data_x.reshape(len(self.data_x), 1, 561)\n",
    "        self.data_x  = torch.from_numpy(self.data_x)\n",
    "        self.data_y = self.data_y.astype(int)\n",
    "        self.data_y = torch.from_numpy(self.data_y)\n",
    "\n",
    "    def __len__(self):\n",
    "        return len(self.data_x)\n",
    "\n",
    "    def __getitem__(self, idx):\n",
    "        return self.data_x[idx], self.data_y[idx]"
   ]
  },
  {
   "cell_type": "markdown",
   "source": [
    "Initialise the 3 datasets that will be used."
   ],
   "metadata": {
    "collapsed": false
   }
  },
  {
   "cell_type": "code",
   "execution_count": 4,
   "metadata": {},
   "outputs": [],
   "source": [
    "train_data = UCI_Static_Dataset(csv_file='train.csv')\n",
    "valid_data = UCI_Static_Dataset(csv_file='valid.csv')\n",
    "test_data = UCI_Static_Dataset(csv_file='test.csv')"
   ]
  },
  {
   "cell_type": "markdown",
   "source": [
    "# Data Loading\n",
    "\n",
    "Using the DataLoader object load in the data, shuffling and assigning a batch size of 64."
   ],
   "metadata": {
    "collapsed": false
   }
  },
  {
   "cell_type": "code",
   "execution_count": 5,
   "metadata": {},
   "outputs": [],
   "source": [
    "trainloader = torch.utils.data.DataLoader(train_data, batch_size=32, shuffle=True)\n",
    "validloader = torch.utils.data.DataLoader(valid_data, batch_size=32, shuffle=True)\n",
    "testloader = torch.utils.data.DataLoader(test_data, batch_size=32, shuffle=True)"
   ]
  },
  {
   "cell_type": "markdown",
   "source": [
    "# Model\n",
    "\n",
    "The Static CNN is implemented below, documentation is provided in the report."
   ],
   "metadata": {
    "collapsed": false
   }
  },
  {
   "cell_type": "code",
   "execution_count": 6,
   "metadata": {},
   "outputs": [],
   "source": [
    "class StaticCNN(Module):\n",
    "    def __init__(self):\n",
    "        super(StaticCNN, self).__init__()\n",
    "\n",
    "        self.cnn_layers = Sequential(\n",
    "            # a\n",
    "            Conv1d(1, 30, kernel_size=tuple([3])), #stride=tuple([1])),\n",
    "            ReLU(),\n",
    "            Conv1d(30, 50, kernel_size=tuple([3])),\n",
    "            ReLU(),\n",
    "            Conv1d(50, 100, kernel_size=tuple([3])),\n",
    "            ReLU(),\n",
    "            # Flatten\n",
    "            Flatten()\n",
    "        )\n",
    "\n",
    "        self.linear_layers = Sequential(\n",
    "            Dropout(0.5),\n",
    "            Linear(55500, 3),\n",
    "            #ReLU(inplace=True),\n",
    "            Softmax(dim=1)\n",
    "        )\n",
    "\n",
    "    # Defining the forward pass\n",
    "    def forward(self, x):\n",
    "        # print(x.shape)\n",
    "        x = self.cnn_layers(x)\n",
    "        # print(x.shape)\n",
    "        # x = x.view(-1, 32*100*561)\n",
    "        #x = Flatten(x)\n",
    "        #print(x.shape)\n",
    "        x = self.linear_layers(x)\n",
    "        #print(x.shape)\n",
    "        return x"
   ]
  },
  {
   "cell_type": "markdown",
   "source": [
    "# Setup\n",
    "\n",
    "In this step we intiialise the loss, optimizer and model objects. For this problem we used cross entropy loss and the\n",
    "adam optimizer.\n",
    "\n",
    "If found we use cuda GPU acceleration to make the process faster.\n"
   ],
   "metadata": {
    "collapsed": false
   }
  },
  {
   "cell_type": "code",
   "execution_count": 7,
   "metadata": {},
   "outputs": [
    {
     "data": {
      "text/plain": "StaticCNN(\n  (cnn_layers): Sequential(\n    (0): Conv1d(1, 30, kernel_size=(3,), stride=(1,))\n    (1): ReLU()\n    (2): Conv1d(30, 50, kernel_size=(3,), stride=(1,))\n    (3): ReLU()\n    (4): Conv1d(50, 100, kernel_size=(3,), stride=(1,))\n    (5): ReLU()\n    (6): Flatten(start_dim=1, end_dim=-1)\n  )\n  (linear_layers): Sequential(\n    (0): Dropout(p=0.5, inplace=False)\n    (1): Linear(in_features=55500, out_features=3, bias=True)\n    (2): Softmax(dim=1)\n  )\n)"
     },
     "execution_count": 7,
     "metadata": {},
     "output_type": "execute_result"
    }
   ],
   "source": [
    "criterion = CrossEntropyLoss()\n",
    "device = \"cuda\" if torch.cuda.is_available() else \"cpu\"\n",
    "\n",
    "model = StaticCNN()\n",
    "epochs = 10\n",
    "\n",
    "step = epochs//5\n",
    "optimizer = Adam(model.parameters(), lr=0.0005)\n",
    "model.to(device)"
   ]
  },
  {
   "cell_type": "markdown",
   "source": [
    "# Training\n",
    "\n",
    "In this step the model is trained. Validation is done so we can observe the progress."
   ],
   "metadata": {
    "collapsed": false
   }
  },
  {
   "cell_type": "code",
   "execution_count": 8,
   "metadata": {},
   "outputs": [
    {
     "name": "stdout",
     "output_type": "stream",
     "text": [
      "Epoch 1/9\n",
      "----------\n",
      "train Loss: 0.0195\n",
      "val Loss: 0.0199\n",
      "Epoch 3/9\n",
      "----------\n",
      "train Loss: 0.0188\n",
      "val Loss: 0.0198\n",
      "Epoch 5/9\n",
      "----------\n",
      "train Loss: 0.0185\n",
      "val Loss: 0.0197\n",
      "Epoch 7/9\n",
      "----------\n",
      "train Loss: 0.0183\n",
      "val Loss: 0.0195\n",
      "Epoch 9/9\n",
      "----------\n",
      "train Loss: 0.0181\n",
      "val Loss: 0.0194\n"
     ]
    }
   ],
   "source": [
    "data_loaders = {}\n",
    "data_loaders['train'] = trainloader\n",
    "data_loaders['val'] = validloader\n",
    "data_lengths = {\"train\": len(train_data), \"val\": len(valid_data)}\n",
    "\n",
    "for epoch in range(epochs):\n",
    "    if (epoch+1) % step == 0:\n",
    "        print('Epoch {}/{}'.format(epoch, epochs - 1))\n",
    "        print('-' * 10)\n",
    "\n",
    "    # Each epoch has a training and validation phase\n",
    "    for phase in ['train', 'val']:\n",
    "        if phase == 'train':\n",
    "            model.train(True)  # Set model to training mode\n",
    "        else:\n",
    "            model.train(False)  # Set model to evaluate mode\n",
    "\n",
    "        running_loss = 0.0\n",
    "\n",
    "        # Iterate over data.\n",
    "        for data in data_loaders[phase]:\n",
    "            inputs, labels = data\n",
    "            inputs, labels = inputs.to(device).float(), labels.to(device).long()\n",
    "            # forward pass to get outputs\n",
    "            output = model(inputs)\n",
    "\n",
    "            # calculate the loss between predicted and target keypoints\n",
    "            loss = criterion(output, labels)\n",
    "\n",
    "            # zero the parameter (weight) gradients\n",
    "            optimizer.zero_grad()\n",
    "\n",
    "            # backward + optimize only if in training phase\n",
    "            if phase == 'train':\n",
    "                loss.backward()\n",
    "                # update the weights\n",
    "                optimizer.step()\n",
    "\n",
    "            # print loss statistics\n",
    "            running_loss += loss.item()\n",
    "\n",
    "        epoch_loss = running_loss / data_lengths[phase]\n",
    "        if (epoch+1) % step == 0:\n",
    "            print('{} Loss: {:.4f}'.format(phase, epoch_loss))"
   ]
  },
  {
   "cell_type": "markdown",
   "source": [
    "# Testing\n",
    "\n",
    "Finally the model is tested on the test set."
   ],
   "metadata": {
    "collapsed": false
   }
  },
  {
   "cell_type": "code",
   "execution_count": 9,
   "metadata": {
    "pycharm": {
     "name": "#%%\n"
    }
   },
   "outputs": [],
   "source": [
    "correct = 0\n",
    "total = 0\n",
    "model.cpu()\n",
    "predictions = []\n",
    "test_labels = []\n",
    "with torch.no_grad():\n",
    "    for inputs, labels in testloader:\n",
    "        inputs, labels = inputs.float(), labels.long()\n",
    "        outputs = model(inputs)\n",
    "        _, predicted = torch.max(outputs.data, 1)\n",
    "        for p in predicted:\n",
    "            predictions.append(p)\n",
    "\n",
    "        for l in labels:\n",
    "            test_labels.append(l)\n"
   ]
  },
  {
   "cell_type": "code",
   "execution_count": 10,
   "outputs": [
    {
     "data": {
      "text/plain": "<Figure size 432x288 with 2 Axes>",
      "image/png": "[encoded data removed]"
     },
     "metadata": {
      "needs_background": "light"
     },
     "output_type": "display_data"
    }
   ],
   "source": [
    "#Confusion Matrix maps out the predicted label given to the data with the actual label\n",
    "#Helps us check the rate of true/false positives and true/false negatives\n",
    "#parameters are the true labels, and the predicted labels\n",
    "\n",
    "# https://sklearn.org/auto_examples/model_selection/plot_confusion_matrix.html\n",
    "def plot_confusion_matrix(cm, classes,\n",
    "                          normalize=False,\n",
    "                          title='Confusion matrix',\n",
    "                          cmap=plt.cm.Blues):\n",
    "    \"\"\"\n",
    "    This function prints and plots the confusion matrix.\n",
    "    Normalization can be applied by setting `normalize=True`.\n",
    "    \"\"\"\n",
    "    if normalize:\n",
    "        cm = cm.astype('float') / cm.sum(axis=1)[:, np.newaxis]\n",
    "\n",
    "    plt.imshow(cm, interpolation='nearest', cmap=cmap)\n",
    "    plt.title(title)\n",
    "    plt.colorbar()\n",
    "    tick_marks = np.arange(len(classes))\n",
    "    plt.xticks(tick_marks, classes, rotation=45)\n",
    "    plt.yticks(tick_marks, classes)\n",
    "\n",
    "    fmt = '.2f' if normalize else 'd'\n",
    "    thresh = cm.max() / 2.\n",
    "    for i, j in itertools.product(range(cm.shape[0]), range(cm.shape[1])):\n",
    "        plt.text(j, i, format(cm[i, j], fmt),\n",
    "                 horizontalalignment=\"center\",\n",
    "                 color=\"white\" if cm[i, j] > thresh else \"black\")\n",
    "\n",
    "    plt.tight_layout()\n",
    "    plt.ylabel('True label')\n",
    "    plt.xlabel('Predicted label')\n",
    "\n",
    "\n",
    "cnf_matrix = confusion_matrix(test_labels, predictions)\n",
    "np.set_printoptions(precision=2)\n",
    "\n",
    "classes =    {\n",
    "                \"LAYING\":0,\n",
    "                \"SITTING\":1,\n",
    "                \"STANDING\":2,\n",
    "             }\n",
    "# Plot non-normalized confusion matrix\n",
    "plt.figure()\n",
    "plot_confusion_matrix(cnf_matrix, classes=classes, normalize=True,title='Confusion matrix')\n"
   ],
   "metadata": {
    "collapsed": false,
    "pycharm": {
     "name": "#%%\n"
    }
   }
  },
  {
   "cell_type": "code",
   "execution_count": 11,
   "outputs": [
    {
     "name": "stdout",
     "output_type": "stream",
     "text": [
      "Final accuracy score on the testing data: 0.9500\n",
      "Final F-score on the testing data: 0.9510\n",
      "Final precision score on the testing data: 0.9523\n",
      "Final recall score on the testing data: 0.9500\n"
     ]
    }
   ],
   "source": [
    "print(\"Final accuracy score on the testing data: {:.4f}\".format(accuracy_score(test_labels, predictions)))\n",
    "print(\"Final F-score on the testing data: {:.4f}\".format(fbeta_score(test_labels, predictions, beta = 0.5,average='weighted')))\n",
    "print(\"Final precision score on the testing data: {:.4f}\".format(precision_score(test_labels, predictions, average='weighted')))\n",
    "print(\"Final recall score on the testing data: {:.4f}\".format(recall_score(test_labels, predictions, average='weighted')))\n",
    "\n"
   ],
   "metadata": {
    "collapsed": false,
    "pycharm": {
     "name": "#%%\n"
    }
   }
  }
 ],
 "metadata": {
  "kernelspec": {
   "display_name": "Python 3",
   "language": "python",
   "name": "python3"
  },
  "language_info": {
   "codemirror_mode": {
    "name": "ipython",
    "version": 3
   },
   "file_extension": ".py",
   "mimetype": "text/x-python",
   "name": "python",
   "nbconvert_exporter": "python",
   "pygments_lexer": "ipython3",
   "version": "3.8.3"
  }
 },
 "nbformat": 4,
 "nbformat_minor": 2
}