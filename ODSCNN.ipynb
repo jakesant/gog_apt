{
 "cells": [
  {
   "cell_type": "markdown",
   "source": [
    "# Static Convolutional Neural Network\n",
    "***\n",
    "# Table of Contents\n",
    "1.   [Imports](#Imports)\n",
    "2.   [Dataset Object](#Dataset-Object)\n",
    "3.   [Data Loading](#Data-Loading)\n",
    "4.   [Model](#Model)\n",
    "5.   [Setup](#Setup)\n",
    "6.   [Training](#Training)\n",
    "7.   [Testing](#Testing)"
   ],
   "metadata": {
    "collapsed": false
   }
  },
  {
   "cell_type": "markdown",
   "source": [
    "# Imports\n",
    "\n",
    "The necessary libraries are imported at this stage.\n",
    "\n",
    "* torch - Python pytorch library used to create and train the CNN\n",
    "* numpy - Efficient data arrays\n",
    "* pandas - Data applications\n",
    "* sklearn - Provides a number of models, metrics and general functionality for machine learning\n",
    "* matplotlib - Provides plotting."
   ],
   "metadata": {
    "collapsed": false
   }
  },
  {
   "cell_type": "code",
   "execution_count": 1,
   "outputs": [],
   "source": [
    "import torch\n",
    "import numpy as np\n",
    "import pandas as pd\n",
    "from torch.nn import Linear, ReLU, Flatten, Sequential, Conv1d, Module, CrossEntropyLoss, Dropout, Softmax, LogSoftmax\n",
    "from torch.optim import Adam\n",
    "from torch.utils.data import Dataset\n",
    "from sklearn.metrics import accuracy_score, fbeta_score, precision_score, recall_score, confusion_matrix\n",
    "import Helper as h"
   ],
   "metadata": {
    "collapsed": false,
    "pycharm": {
     "name": "#%%\n"
    }
   }
  },
  {
   "cell_type": "markdown",
   "source": [
    "# Dataset Object\n",
    "\n",
    "Although not fully required it is helpful to create a custom torch.utils.data.Dataset when using the pytorch library.\n",
    "This makes the splitting and feeding of data into the network easier.\n",
    "\n",
    "## Encoding\n",
    "\n",
    "A dict is defined 0-3 for the Static activities in the dataset."
   ],
   "metadata": {
    "collapsed": false
   }
  },
  {
   "cell_type": "code",
   "execution_count": 2,
   "outputs": [],
   "source": [
    "activity_encode =   {\n",
    "                        \"WALKING\": 4,\n",
    "                        \"STAIRS DN\": 5,\n",
    "                        \"STAIRS UP\": 6,\n",
    "                        \"SWIMMING\" : 7,\n",
    "                        \"PUSH UP\" : 8,\n",
    "                        \"JUMPING\" : 9,\n",
    "                        \"DRIVING\": 0,\n",
    "                        \"LAYING\": 1,\n",
    "                        \"SITTING\": 2,\n",
    "                        \"STANDING\": 3\n",
    "                    }"
   ],
   "metadata": {
    "collapsed": false,
    "pycharm": {
     "name": "#%%\n"
    }
   }
  },
  {
   "cell_type": "markdown",
   "source": [
    "## Dataset\n",
    "\n",
    "The object is defined as below for the UCI dataset. 3 functions need to be implemented **__init__**, **__len__** and\n",
    "**__getitem__**.\n",
    "\n",
    "In initialisation the data is split into X and y variables and turned into tensors.\n",
    "\n",
    "The X variable has shape (row_count, 1, feature_count). 1 since there is only one channel of data.\n",
    "\n",
    "The dynamic features are removed."
   ],
   "metadata": {
    "collapsed": false
   }
  },
  {
   "cell_type": "code",
   "execution_count": 3,
   "outputs": [],
   "source": [
    "class OUR_Static_Dataset(Dataset):\n",
    "\n",
    "    def __init__(self, csv_file):\n",
    "        data = pd.read_csv(csv_file)\n",
    "        data['Label'] = data['Label'].map(activity_encode)\n",
    "        data, _ = [x for _, x in data.groupby(data['Label'] > 3)]\n",
    "        self.data_y = data['Label'].values\n",
    "        data = pd.DataFrame(data.drop(['Label'],axis=1))\n",
    "        self.data_x = np.array(data)\n",
    "        # [batch, channels, features]\n",
    "        self.data_x = self.data_x.reshape(len(self.data_x), 1, 589)\n",
    "        self.data_x  = torch.from_numpy(self.data_x)\n",
    "        self.data_y = self.data_y.astype(int)\n",
    "        self.data_y = torch.from_numpy(self.data_y)\n",
    "\n",
    "    def __len__(self):\n",
    "        return len(self.data_x)\n",
    "\n",
    "    def __getitem__(self, idx):\n",
    "        return self.data_x[idx], self.data_y[idx]\n"
   ],
   "metadata": {
    "collapsed": false,
    "pycharm": {
     "name": "#%%\n"
    }
   }
  },
  {
   "cell_type": "markdown",
   "source": [
    "Initialise the 3 datasets that will be used."
   ],
   "metadata": {
    "collapsed": false
   }
  },
  {
   "cell_type": "code",
   "execution_count": 4,
   "outputs": [],
   "source": [
    "train_data = OUR_Static_Dataset(csv_file='Our Dataset/train.csv')\n",
    "valid_data = OUR_Static_Dataset(csv_file='Our Dataset/valid.csv')\n",
    "test_data = OUR_Static_Dataset(csv_file='Our Dataset/test.csv')"
   ],
   "metadata": {
    "collapsed": false,
    "pycharm": {
     "name": "#%%\n"
    }
   }
  },
  {
   "cell_type": "code",
   "execution_count": 5,
   "outputs": [
    {
     "data": {
      "text/plain": "<Figure size 432x288 with 1 Axes>",
      "image/png": "[encoded data removed]"
     },
     "metadata": {},
     "output_type": "display_data"
    }
   ],
   "source": [
    "h.pie('Our Dataset/train.csv', 'OUR Data Static Training Data Distribution', activity_encode, 3, 'Label')\n",
    "h.pie('Our Dataset/valid.csv', 'OUR Data Static Validation Data Distribution', activity_encode, 3, 'Label')\n",
    "h.pie('Our Dataset/test.csv', 'OUR Data Static Testing Data Distribution', activity_encode, 3, 'Label')"
   ],
   "metadata": {
    "collapsed": false,
    "pycharm": {
     "name": "#%%\n"
    }
   }
  },
  {
   "cell_type": "markdown",
   "source": [
    "# Data Loading\n",
    "\n",
    "Using the DataLoader object load in the data, shuffling and assigning a batch size of 64."
   ],
   "metadata": {
    "collapsed": false
   }
  },
  {
   "cell_type": "code",
   "execution_count": 6,
   "outputs": [],
   "source": [
    "trainloader = torch.utils.data.DataLoader(train_data, batch_size=32, shuffle=True)\n",
    "validloader = torch.utils.data.DataLoader(valid_data, batch_size=32, shuffle=True)\n",
    "testloader = torch.utils.data.DataLoader(test_data, batch_size=32, shuffle=True)"
   ],
   "metadata": {
    "collapsed": false,
    "pycharm": {
     "name": "#%%\n"
    }
   }
  },
  {
   "cell_type": "markdown",
   "source": [
    "# Model\n",
    "\n",
    "The Static CNN is implemented below, documentation is provided in the report."
   ],
   "metadata": {
    "collapsed": false
   }
  },
  {
   "cell_type": "code",
   "execution_count": 7,
   "outputs": [],
   "source": [
    "class StaticCNN(Module):\n",
    "    def __init__(self):\n",
    "        super(StaticCNN, self).__init__()\n",
    "\n",
    "        self.cnn_layers = Sequential(\n",
    "            Conv1d(1, 30, kernel_size=tuple([3])),\n",
    "            ReLU(),\n",
    "            Conv1d(30, 50, kernel_size=tuple([3])),\n",
    "            ReLU(),\n",
    "            Conv1d(50, 100, kernel_size=tuple([3])),\n",
    "            ReLU(),\n",
    "            Flatten()\n",
    "        )\n",
    "\n",
    "        self.linear_layers = Sequential(\n",
    "            Dropout(0.5),\n",
    "            Linear(58300, 4),\n",
    "            LogSoftmax(dim=1)\n",
    "        )\n",
    "\n",
    "    # Defining the forward pass\n",
    "    def forward(self, x):\n",
    "        # print(x.shape) # ([32, 1, 325])\n",
    "        x = self.cnn_layers(x)\n",
    "        # print(x.shape) # ([32, 31900])\n",
    "        x = self.linear_layers(x)\n",
    "        # print(x.shape) # ([32, 4])\n",
    "        return x"
   ],
   "metadata": {
    "collapsed": false,
    "pycharm": {
     "name": "#%%\n"
    }
   }
  },
  {
   "cell_type": "markdown",
   "source": [
    "# Setup\n",
    "\n",
    "In this step we initialise the loss, optimizer and model objects. For this problem we used cross entropy loss and the\n",
    "adam optimizer.\n",
    "\n",
    "If found we use cuda GPU acceleration to make the process faster."
   ],
   "metadata": {
    "collapsed": false
   }
  },
  {
   "cell_type": "code",
   "execution_count": 8,
   "outputs": [],
   "source": [
    "criterion = CrossEntropyLoss()\n",
    "device = \"cuda\" if torch.cuda.is_available() else \"cpu\"\n",
    "\n",
    "model = StaticCNN()\n",
    "\n",
    "train = True\n",
    "\n",
    "# Set for training\n",
    "if train:\n",
    "    epochs = 10\n",
    "    step = epochs//5\n",
    "    optimizer = Adam(model.parameters(), lr=0.0005)\n",
    "    model.to(device)\n",
    "# Load Existing, (do not train again if loaded)\n",
    "else:\n",
    "    state_dict = torch.load('Models/ODSCNN.pth')\n",
    "    model.load_state_dict(state_dict)"
   ],
   "metadata": {
    "collapsed": false,
    "pycharm": {
     "name": "#%%\n"
    }
   }
  },
  {
   "cell_type": "markdown",
   "source": [
    "# Training\n",
    "\n",
    "In this step the model is trained. Validation is done so we can observe the progress."
   ],
   "metadata": {
    "collapsed": false
   }
  },
  {
   "cell_type": "code",
   "execution_count": 9,
   "outputs": [
    {
     "name": "stdout",
     "output_type": "stream",
     "text": [
      "Epoch 1/9\n",
      "----------\n",
      "train Loss: 21.0546\n",
      "val Loss: 3.0086\n",
      "Epoch 3/9\n",
      "----------\n",
      "train Loss: 6.4790\n",
      "val Loss: 0.9396\n",
      "Epoch 5/9\n",
      "----------\n",
      "train Loss: 1.9881\n",
      "val Loss: 0.0850\n",
      "Epoch 7/9\n",
      "----------\n",
      "train Loss: 3.3578\n",
      "val Loss: 1.1547\n",
      "Epoch 9/9\n",
      "----------\n",
      "train Loss: 1.6214\n",
      "val Loss: 0.1543\n"
     ]
    }
   ],
   "source": [
    "data_loaders = {}\n",
    "data_loaders['train'] = trainloader\n",
    "data_loaders['val'] = validloader\n",
    "data_lengths = {\"train\": len(train_data), \"val\": len(valid_data)}\n",
    "\n",
    "for epoch in range(epochs):\n",
    "    if (epoch+1) % step == 0:\n",
    "        print('Epoch {}/{}'.format(epoch, epochs - 1))\n",
    "        print('-' * 10)\n",
    "\n",
    "    # Each epoch has a training and validation phase\n",
    "    for phase in ['train', 'val']:\n",
    "        if phase == 'train':\n",
    "            model.train(True)  # Set model to training mode\n",
    "        else:\n",
    "            model.train(False)  # Set model to evaluate mode\n",
    "\n",
    "        running_loss = 0.0\n",
    "\n",
    "        # Iterate over data.\n",
    "        for data in data_loaders[phase]:\n",
    "            inputs, labels = data\n",
    "            inputs, labels = inputs.to(device).float(), labels.to(device).long()\n",
    "            # forward pass to get outputs\n",
    "            output = model(inputs)\n",
    "\n",
    "            # calculate the loss between predicted and target keypoints\n",
    "            loss = criterion(output, labels)\n",
    "\n",
    "            # zero the parameter (weight) gradients\n",
    "            optimizer.zero_grad()\n",
    "\n",
    "            # backward + optimize only if in training phase\n",
    "            if phase == 'train':\n",
    "                loss.backward()\n",
    "                # update the weights\n",
    "                optimizer.step()\n",
    "\n",
    "            # print loss statistics\n",
    "            running_loss += loss.item()\n",
    "\n",
    "        epoch_loss = running_loss / data_lengths[phase]\n",
    "        if (epoch+1) % step == 0:\n",
    "            print('{} Loss: {:.4f}'.format(phase, epoch_loss))"
   ],
   "metadata": {
    "collapsed": false,
    "pycharm": {
     "name": "#%%\n"
    }
   }
  },
  {
   "cell_type": "markdown",
   "source": [
    "# Testing\n",
    "\n",
    "Finally the model is tested on the test set."
   ],
   "metadata": {
    "collapsed": false
   }
  },
  {
   "cell_type": "code",
   "execution_count": 10,
   "outputs": [],
   "source": [
    "model.cpu()\n",
    "predictions = []\n",
    "test_labels = []\n",
    "with torch.no_grad():\n",
    "    for inputs, labels in testloader:\n",
    "        inputs, labels = inputs.float(), labels.long()\n",
    "        outputs = model(inputs)\n",
    "        _, predicted = torch.max(outputs.data, 1)\n",
    "        for p in predicted:\n",
    "            predictions.append(p)\n",
    "\n",
    "        for l in labels:\n",
    "            test_labels.append(l)\n"
   ],
   "metadata": {
    "collapsed": false,
    "pycharm": {
     "name": "#%%\n"
    }
   }
  },
  {
   "cell_type": "code",
   "execution_count": 11,
   "outputs": [
    {
     "data": {
      "text/plain": "<Figure size 432x288 with 2 Axes>",
      "image/png": "[encoded data removed]"
     },
     "metadata": {
      "needs_background": "light"
     },
     "output_type": "display_data"
    }
   ],
   "source": [
    "cnf_matrix = confusion_matrix(test_labels, predictions)\n",
    "np.set_printoptions(precision=2)\n",
    "\n",
    "classes =   {\n",
    "                \"LAYING\": 0,\n",
    "                \"SITTING\": 1,\n",
    "                \"STANDING\": 2,\n",
    "                \"DRIVING\": 3,\n",
    "            }\n",
    "h.plot_confusion_matrix(cnf_matrix, classes=classes, normalize=True,title='Confusion matrix')"
   ],
   "metadata": {
    "collapsed": false,
    "pycharm": {
     "name": "#%%\n"
    }
   }
  },
  {
   "cell_type": "code",
   "execution_count": 12,
   "outputs": [
    {
     "name": "stdout",
     "output_type": "stream",
     "text": [
      "Final accuracy score on the testing data: 0.9314\n",
      "Final F-score on the testing data: 0.9312\n",
      "Final precision score on the testing data: 0.9323\n",
      "Final recall score on the testing data: 0.9314\n"
     ]
    }
   ],
   "source": [
    "# Print metrics\n",
    "print(\"Final accuracy score on the testing data: {:.4f}\".format(accuracy_score(test_labels, predictions)))\n",
    "print(\"Final F-score on the testing data: {:.4f}\".format(fbeta_score(test_labels, predictions, beta = 0.5,average='weighted')))\n",
    "print(\"Final precision score on the testing data: {:.4f}\".format(precision_score(test_labels, predictions, average='weighted')))\n",
    "print(\"Final recall score on the testing data: {:.4f}\".format(recall_score(test_labels, predictions, average='weighted')))"
   ],
   "metadata": {
    "collapsed": false,
    "pycharm": {
     "name": "#%%\n"
    }
   }
  },
  {
   "cell_type": "code",
   "execution_count": 13,
   "outputs": [],
   "source": [
    "# Save model for neutron\n",
    "device = 'cpu'\n",
    "batch = next(iter(trainloader))[0].to(device).float()\n",
    "torch.onnx.export(model, batch, 'Visualizations/CNN ONNX/ODSCNN.onnx', output_names=[\"Label\"])"
   ],
   "metadata": {
    "collapsed": false,
    "pycharm": {
     "name": "#%%\n"
    }
   }
  },
  {
   "cell_type": "code",
   "execution_count": 14,
   "outputs": [],
   "source": [
    "# save model\n",
    "\n",
    "torch.save(model.state_dict(), 'Models/ODSCNN.pth')\n"
   ],
   "metadata": {
    "collapsed": false,
    "pycharm": {
     "name": "#%%\n"
    }
   }
  }
 ],
 "metadata": {
  "kernelspec": {
   "display_name": "Python 3",
   "language": "python",
   "name": "python3"
  },
  "language_info": {
   "codemirror_mode": {
    "name": "ipython",
    "version": 2
   },
   "file_extension": ".py",
   "mimetype": "text/x-python",
   "name": "python",
   "nbconvert_exporter": "python",
   "pygments_lexer": "ipython2",
   "version": "2.7.6"
  }
 },
 "nbformat": 4,
 "nbformat_minor": 0
}