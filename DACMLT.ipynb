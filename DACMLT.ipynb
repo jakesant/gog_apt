{
 "cells": [
  {
   "cell_type": "markdown",
   "source": [
    "# Data Analysis and Classic Machine Learning Techniques\n",
    "***\n",
    "# Table of Contents\n",
    "1.   [Imports](#Imports)\n",
    "2.   [Loading The Dataset](#Loading-The-Dataset)\n",
    "3.   [Data Analysis](#Data-Analysis)\n",
    "4.   [Data Pre-Processing](#Data-Pre-Processing)\n",
    "4.   [Different Model Comparison](#Different-Model-Comparison)\n",
    "5.   [Support Vector Machine](#Support-Vector-Machine)\n"
   ],
   "metadata": {
    "collapsed": false
   }
  },
  {
   "cell_type": "markdown",
   "source": [
    "# Imports\n",
    "\n",
    "The necessary libraries are imported at this stage.\n",
    "\n",
    "* pandas - Dataframe object is useful for data processing and analyses.\n",
    "* sklearn - Provides a number of models, metrics and general functionality for machine learning.\n",
    "* matplotlib - Provides plotting."
   ],
   "metadata": {
    "collapsed": false
   }
  },
  {
   "cell_type": "code",
   "execution_count": 1,
   "outputs": [],
   "source": [
    "import pandas as pd\n",
    "from time import time\n",
    "from IPython.display import display # Allows the use of display() for DataFrames\n",
    "import itertools\n",
    "import numpy as np\n",
    "#from google.colab import drive #Only needed on Colab\n",
    "import matplotlib.pyplot as plt\n",
    "from sklearn.utils import shuffle\n",
    "from sklearn import preprocessing\n",
    "from sklearn.preprocessing import StandardScaler\n",
    "from sklearn.naive_bayes import GaussianNB\n",
    "from sklearn.ensemble import AdaBoostClassifier\n",
    "from sklearn.svm import SVC\n",
    "from sklearn.metrics import accuracy_score, fbeta_score, precision_score, recall_score, confusion_matrix, make_scorer\n",
    "from sklearn.model_selection import GridSearchCV\n",
    "# Pretty display for notebooks\n",
    "%matplotlib inline"
   ],
   "metadata": {
    "collapsed": false,
    "pycharm": {
     "name": "#%%\n"
    }
   }
  },
  {
   "cell_type": "markdown",
   "source": [
    "# Loading The Dataset\n",
    "\n",
    "In this section we load the dataset from the 2 files.\n",
    "\n",
    "The training and testing data are loaded from their respective CSV files using the **Pandas** function *read_csv*. The first row in the two datasets are outputted to ensure that the files were read correctly"
   ],
   "metadata": {
    "collapsed": false
   }
  },
  {
   "cell_type": "code",
   "execution_count": 2,
   "outputs": [
    {
     "data": {
      "text/plain": "       Label  angle(X-axis, gravityMean  angle(Y-axis, gravityMean  \\\n0  STAIRS UP                    1.61632                   3.062009   \n\n   angle(Z-axis, gravityMean  angle(tBodyAccJerkMean, gravityMean)  \\\n0                   1.505564                              0.417254   \n\n   angle(tBodyAccMean, gravityMean)  angle(tBodyGyroJerkMean, gravityMean)  \\\n0                          2.461736                               2.016786   \n\n   angle(tBodyGyroMean, gravityMean)  fBodyAcc-X-band_energy-1,16  \\\n0                           1.651286                  2368.764428   \n\n   fBodyAcc-X-band_energy-1,24          ...           \\\n0                  1706.731395          ...            \n\n   tGravityAccMag-arCoeff(), 3  tGravityAccMag-arCoeff(), 4  \\\n0                     0.999993                     0.999986   \n\n   tGravityAccMag-energy()  tGravityAccMag-entropy()  tGravityAccMag-iqr()  \\\n0             12939.713088                  4.829359              1.412392   \n\n   tGravityAccMag-mad()  tGravityAccMag-max()  tGravityAccMag-mean()  \\\n0              0.207592              13.49037              10.061105   \n\n   tGravityAccMag-min()  tGravityAccMag-std()  \n0              9.181251              1.217404  \n\n[1 rows x 590 columns]",
      "text/html": "<div>\n<style scoped>\n    .dataframe tbody tr th:only-of-type {\n        vertical-align: middle;\n    }\n\n    .dataframe tbody tr th {\n        vertical-align: top;\n    }\n\n    .dataframe thead th {\n        text-align: right;\n    }\n</style>\n<table border=\"1\" class=\"dataframe\">\n  <thead>\n    <tr style=\"text-align: right;\">\n      <th></th>\n      <th>Label</th>\n      <th>angle(X-axis, gravityMean</th>\n      <th>angle(Y-axis, gravityMean</th>\n      <th>angle(Z-axis, gravityMean</th>\n      <th>angle(tBodyAccJerkMean, gravityMean)</th>\n      <th>angle(tBodyAccMean, gravityMean)</th>\n      <th>angle(tBodyGyroJerkMean, gravityMean)</th>\n      <th>angle(tBodyGyroMean, gravityMean)</th>\n      <th>fBodyAcc-X-band_energy-1,16</th>\n      <th>fBodyAcc-X-band_energy-1,24</th>\n      <th>...</th>\n      <th>tGravityAccMag-arCoeff(), 3</th>\n      <th>tGravityAccMag-arCoeff(), 4</th>\n      <th>tGravityAccMag-energy()</th>\n      <th>tGravityAccMag-entropy()</th>\n      <th>tGravityAccMag-iqr()</th>\n      <th>tGravityAccMag-mad()</th>\n      <th>tGravityAccMag-max()</th>\n      <th>tGravityAccMag-mean()</th>\n      <th>tGravityAccMag-min()</th>\n      <th>tGravityAccMag-std()</th>\n    </tr>\n  </thead>\n  <tbody>\n    <tr>\n      <th>0</th>\n      <td>STAIRS UP</td>\n      <td>1.61632</td>\n      <td>3.062009</td>\n      <td>1.505564</td>\n      <td>0.417254</td>\n      <td>2.461736</td>\n      <td>2.016786</td>\n      <td>1.651286</td>\n      <td>2368.764428</td>\n      <td>1706.731395</td>\n      <td>...</td>\n      <td>0.999993</td>\n      <td>0.999986</td>\n      <td>12939.713088</td>\n      <td>4.829359</td>\n      <td>1.412392</td>\n      <td>0.207592</td>\n      <td>13.49037</td>\n      <td>10.061105</td>\n      <td>9.181251</td>\n      <td>1.217404</td>\n    </tr>\n  </tbody>\n</table>\n<p>1 rows × 590 columns</p>\n</div>"
     },
     "metadata": {},
     "output_type": "display_data"
    },
    {
     "data": {
      "text/plain": "     Label  angle(X-axis, gravityMean  angle(Y-axis, gravityMean  \\\n0  DRIVING                   2.063309                   1.668399   \n\n   angle(Z-axis, gravityMean  angle(tBodyAccJerkMean, gravityMean)  \\\n0                   0.503825                              2.037045   \n\n   angle(tBodyAccMean, gravityMean)  angle(tBodyGyroJerkMean, gravityMean)  \\\n0                          1.558043                               1.208786   \n\n   angle(tBodyGyroMean, gravityMean)  fBodyAcc-X-band_energy-1,16  \\\n0                            2.23079                    97.013863   \n\n   fBodyAcc-X-band_energy-1,24          ...           \\\n0                    71.076702          ...            \n\n   tGravityAccMag-arCoeff(), 3  tGravityAccMag-arCoeff(), 4  \\\n0                     0.999996                     0.999993   \n\n   tGravityAccMag-energy()  tGravityAccMag-entropy()  tGravityAccMag-iqr()  \\\n0             12279.600084                  4.843275              0.542577   \n\n   tGravityAccMag-mad()  tGravityAccMag-max()  tGravityAccMag-mean()  \\\n0              0.101092             10.147702               9.824295   \n\n   tGravityAccMag-min()  tGravityAccMag-std()  \n0              8.726549              0.417565  \n\n[1 rows x 590 columns]",
      "text/html": "<div>\n<style scoped>\n    .dataframe tbody tr th:only-of-type {\n        vertical-align: middle;\n    }\n\n    .dataframe tbody tr th {\n        vertical-align: top;\n    }\n\n    .dataframe thead th {\n        text-align: right;\n    }\n</style>\n<table border=\"1\" class=\"dataframe\">\n  <thead>\n    <tr style=\"text-align: right;\">\n      <th></th>\n      <th>Label</th>\n      <th>angle(X-axis, gravityMean</th>\n      <th>angle(Y-axis, gravityMean</th>\n      <th>angle(Z-axis, gravityMean</th>\n      <th>angle(tBodyAccJerkMean, gravityMean)</th>\n      <th>angle(tBodyAccMean, gravityMean)</th>\n      <th>angle(tBodyGyroJerkMean, gravityMean)</th>\n      <th>angle(tBodyGyroMean, gravityMean)</th>\n      <th>fBodyAcc-X-band_energy-1,16</th>\n      <th>fBodyAcc-X-band_energy-1,24</th>\n      <th>...</th>\n      <th>tGravityAccMag-arCoeff(), 3</th>\n      <th>tGravityAccMag-arCoeff(), 4</th>\n      <th>tGravityAccMag-energy()</th>\n      <th>tGravityAccMag-entropy()</th>\n      <th>tGravityAccMag-iqr()</th>\n      <th>tGravityAccMag-mad()</th>\n      <th>tGravityAccMag-max()</th>\n      <th>tGravityAccMag-mean()</th>\n      <th>tGravityAccMag-min()</th>\n      <th>tGravityAccMag-std()</th>\n    </tr>\n  </thead>\n  <tbody>\n    <tr>\n      <th>0</th>\n      <td>DRIVING</td>\n      <td>2.063309</td>\n      <td>1.668399</td>\n      <td>0.503825</td>\n      <td>2.037045</td>\n      <td>1.558043</td>\n      <td>1.208786</td>\n      <td>2.23079</td>\n      <td>97.013863</td>\n      <td>71.076702</td>\n      <td>...</td>\n      <td>0.999996</td>\n      <td>0.999993</td>\n      <td>12279.600084</td>\n      <td>4.843275</td>\n      <td>0.542577</td>\n      <td>0.101092</td>\n      <td>10.147702</td>\n      <td>9.824295</td>\n      <td>8.726549</td>\n      <td>0.417565</td>\n    </tr>\n  </tbody>\n</table>\n<p>1 rows × 590 columns</p>\n</div>"
     },
     "metadata": {},
     "output_type": "display_data"
    }
   ],
   "source": [
    "#mount drive\n",
    "#drive.mount(\"/content/drive\")\n",
    "path_to_data = \"Our Dataset/\" #\"drive/MyDrive/Kaggle/\"\n",
    "\n",
    "train = pd.read_csv(path_to_data + \"train.csv\")\n",
    "test = pd.read_csv(path_to_data + \"test.csv\")\n",
    "\n",
    "#Check it loaded ok\n",
    "display(train.head(n=1))\n",
    "display(test.head(n=1))"
   ],
   "metadata": {
    "collapsed": false,
    "pycharm": {
     "name": "#%%\n"
    }
   }
  },
  {
   "cell_type": "markdown",
   "source": [
    "# Data Analysis\n",
    "\n",
    "In this section analysis over the data is done to determine the processing steps necessary for the [next section](#Data-Pre-Processing).\n",
    "\n",
    "## Check for Common Elements\n",
    "\n",
    "The training and test data are merged using inner join to see if there is any overlapping data. The output is an empty data frame - containing only the list of different features - meaning that there are no intersections between the two."
   ],
   "metadata": {
    "collapsed": false
   }
  },
  {
   "cell_type": "code",
   "execution_count": 3,
   "outputs": [
    {
     "name": "stdout",
     "output_type": "stream",
     "text": [
      "        Label  angle(X-axis, gravityMean  angle(Y-axis, gravityMean  \\\n",
      "0   STAIRS UP                   1.543986                   2.978967   \n",
      "1   STAIRS UP                   1.566799                   3.083254   \n",
      "2   STAIRS UP                   1.576049                   2.994797   \n",
      "3   STAIRS UP                   1.579599                   3.070896   \n",
      "4   STAIRS UP                   1.490556                   3.061348   \n",
      "5   STAIRS UP                   1.567544                   3.062665   \n",
      "6   STAIRS UP                   1.552793                   3.086059   \n",
      "7   STAIRS UP                   1.568025                   3.024361   \n",
      "8   STAIRS UP                   1.589007                   3.073602   \n",
      "9   STAIRS UP                   1.554756                   3.027012   \n",
      "10  STAIRS UP                   1.507253                   3.073142   \n",
      "11  STAIRS UP                   1.557731                   3.108184   \n",
      "12  STAIRS UP                   1.561060                   3.037779   \n",
      "13  STAIRS UP                   1.559123                   3.069015   \n",
      "14  STAIRS UP                   1.562204                   3.046545   \n",
      "\n",
      "    angle(Z-axis, gravityMean  angle(tBodyAccJerkMean, gravityMean)  \\\n",
      "0                    1.410435                              1.714052   \n",
      "1                    1.512595                              1.065016   \n",
      "2                    1.424096                              2.874759   \n",
      "3                    1.500652                              0.612818   \n",
      "4                    1.569984                              2.452220   \n",
      "5                    1.491936                              2.688340   \n",
      "6                    1.518267                              2.981958   \n",
      "7                    1.453598                              2.735131   \n",
      "8                    1.505297                              0.967259   \n",
      "9                    1.457354                              2.863398   \n",
      "10                   1.545380                              2.924984   \n",
      "11                   1.540050                              1.340203   \n",
      "12                   1.467444                              0.442057   \n",
      "13                   1.499167                              0.622549   \n",
      "14                   1.476140                              0.260452   \n",
      "\n",
      "    angle(tBodyAccMean, gravityMean)  angle(tBodyGyroJerkMean, gravityMean)  \\\n",
      "0                           1.051672                               2.009658   \n",
      "1                           1.181528                               1.170048   \n",
      "2                           1.374185                               0.282192   \n",
      "3                           0.750671                               1.705784   \n",
      "4                           3.132608                               2.307717   \n",
      "5                           1.386957                               1.491913   \n",
      "6                           1.539171                               1.991397   \n",
      "7                           2.843239                               1.742119   \n",
      "8                           0.883874                               1.481520   \n",
      "9                           0.415310                               1.687857   \n",
      "10                          0.858749                               2.293798   \n",
      "11                          0.786018                               2.542056   \n",
      "12                          2.365406                               0.966234   \n",
      "13                          0.657015                               0.662077   \n",
      "14                          0.829219                               1.782527   \n",
      "\n",
      "    angle(tBodyGyroMean, gravityMean)  fBodyAcc-X-band_energy-1,16  \\\n",
      "0                            2.076126                   612.300119   \n",
      "1                            2.136475                  1216.457830   \n",
      "2                            2.110384                  1495.400622   \n",
      "3                            0.263579                  1501.667764   \n",
      "4                            1.956052                  1823.457122   \n",
      "5                            1.690349                  2499.592582   \n",
      "6                            1.261392                  2386.815948   \n",
      "7                            2.693536                  1911.209649   \n",
      "8                            2.988532                  3119.939397   \n",
      "9                            2.088099                  2109.047453   \n",
      "10                           2.192119                  2730.735443   \n",
      "11                           1.782388                  4019.869361   \n",
      "12                           1.565589                  1243.408615   \n",
      "13                           2.480514                  1442.863968   \n",
      "14                           0.226086                  1750.319826   \n",
      "\n",
      "    fBodyAcc-X-band_energy-1,24          ...           \\\n",
      "0                    592.118884          ...            \n",
      "1                    996.700587          ...            \n",
      "2                   1169.078988          ...            \n",
      "3                   1436.251400          ...            \n",
      "4                   1746.542097          ...            \n",
      "5                   1785.148633          ...            \n",
      "6                   1682.608767          ...            \n",
      "7                   1405.623085          ...            \n",
      "8                   2479.982595          ...            \n",
      "9                   1804.438562          ...            \n",
      "10                  2695.384286          ...            \n",
      "11                  3468.056369          ...            \n",
      "12                  1079.805319          ...            \n",
      "13                  1048.133809          ...            \n",
      "14                  1349.647054          ...            \n",
      "\n",
      "    tGravityAccMag-arCoeff(), 3  tGravityAccMag-arCoeff(), 4  \\\n",
      "0                      0.999997                     0.999995   \n",
      "1                      0.999996                     0.999991   \n",
      "2                      0.999995                     0.999990   \n",
      "3                      0.999993                     0.999985   \n",
      "4                      0.999999                     0.999997   \n",
      "5                      0.999993                     0.999986   \n",
      "6                      0.999999                     0.999998   \n",
      "7                      0.999994                     0.999988   \n",
      "8                      0.999999                     0.999998   \n",
      "9                      0.999981                     0.999962   \n",
      "10                     0.999998                     0.999996   \n",
      "11                     0.999999                     0.999998   \n",
      "12                     0.999996                     0.999992   \n",
      "13                     0.999998                     0.999996   \n",
      "14                     0.999992                     0.999984   \n",
      "\n",
      "    tGravityAccMag-energy()  tGravityAccMag-entropy()  tGravityAccMag-iqr()  \\\n",
      "0              11434.469525                  4.786682              3.474952   \n",
      "1              11279.036430                  4.812001              0.261454   \n",
      "2              12357.863781                  4.828869              2.234670   \n",
      "3              11904.303239                  4.831396              1.113930   \n",
      "4              11866.108073                  4.820217              0.188835   \n",
      "5              12249.653777                  4.831972              1.103992   \n",
      "6              10951.801319                  4.810975              0.876431   \n",
      "7              12172.014047                  4.834217              0.801272   \n",
      "8              11951.397891                  4.843756              0.463801   \n",
      "9              11605.071386                  4.757942              4.677821   \n",
      "10             11008.979664                  4.826247              2.438033   \n",
      "11             10914.649030                  4.807309              1.818842   \n",
      "12             13661.068896                  4.800631              4.034396   \n",
      "13             11500.221967                  4.812068              0.204046   \n",
      "14             11218.021566                  4.818346              0.698608   \n",
      "\n",
      "    tGravityAccMag-mad()  tGravityAccMag-max()  tGravityAccMag-mean()  \\\n",
      "0               0.779005             11.281499               9.235611   \n",
      "1               0.067965             10.044709               9.574222   \n",
      "2               0.439993             14.453659               9.707535   \n",
      "3               0.150986             12.451977               9.670881   \n",
      "4               0.064689             10.021880               9.781716   \n",
      "5               0.220061             12.443937               9.816151   \n",
      "6               0.286052              9.891767               9.424764   \n",
      "7               0.157004             11.561170               9.807944   \n",
      "8               0.135044              9.958976               9.696653   \n",
      "9               1.115879             11.766254               9.036714   \n",
      "10              0.604364             10.582063               9.159640   \n",
      "11              0.578189             10.311443               9.375250   \n",
      "12              0.852568             18.023565               9.910580   \n",
      "13              0.039289              9.786365               9.668307   \n",
      "14              0.115905             11.198322               9.492608   \n",
      "\n",
      "    tGravityAccMag-min()  tGravityAccMag-std()  \n",
      "0               3.083102              2.495813  \n",
      "1               9.417796              0.184482  \n",
      "2               8.346683              1.759015  \n",
      "3               8.971220              0.979941  \n",
      "4               9.671640              0.112060  \n",
      "5               9.111803              0.932498  \n",
      "6               8.642356              0.463262  \n",
      "7               9.315621              0.640926  \n",
      "8               9.071577              0.284695  \n",
      "9               1.646089              3.244236  \n",
      "10              5.091707              1.675705  \n",
      "11              7.889595              0.921177  \n",
      "12              7.478181              3.069538  \n",
      "13              9.303816              0.147468  \n",
      "14              9.052871              0.601013  \n",
      "\n",
      "[15 rows x 590 columns]\n"
     ]
    }
   ],
   "source": [
    "merged = pd.merge(train, test, how='inner')\n",
    "print(merged)"
   ],
   "metadata": {
    "collapsed": false,
    "pycharm": {
     "name": "#%%\n"
    }
   }
  },
  {
   "cell_type": "markdown",
   "source": [
    "## Shuffle the data"
   ],
   "metadata": {
    "collapsed": false
   }
  },
  {
   "cell_type": "code",
   "execution_count": 4,
   "outputs": [],
   "source": [
    "train = shuffle(train)\n",
    "test = shuffle(test)"
   ],
   "metadata": {
    "collapsed": false,
    "pycharm": {
     "name": "#%%\n"
    }
   }
  },
  {
   "cell_type": "markdown",
   "source": [
    "## Check for null values in rows"
   ],
   "metadata": {
    "collapsed": false
   }
  },
  {
   "cell_type": "code",
   "execution_count": 5,
   "outputs": [
    {
     "name": "stdout",
     "output_type": "stream",
     "text": [
      "Any missing sample in training set: False\n",
      "Any missing sample in test set: False \n",
      "\n"
     ]
    }
   ],
   "source": [
    "print(\"Any missing sample in training set:\",train.isnull().values.any())\n",
    "print(\"Any missing sample in test set:\",test.isnull().values.any(), \"\\n\")"
   ],
   "metadata": {
    "collapsed": false,
    "pycharm": {
     "name": "#%%\n"
    }
   }
  },
  {
   "cell_type": "markdown",
   "source": [
    "## Label Distribution\n",
    "\n",
    "### Label Distribution in a Pie Chart"
   ],
   "metadata": {
    "collapsed": false
   }
  },
  {
   "cell_type": "code",
   "execution_count": 6,
   "outputs": [
    {
     "data": {
      "text/plain": "<Figure size 432x288 with 1 Axes>",
      "image/png": "[encoded data removed]"
     },
     "metadata": {},
     "output_type": "display_data"
    }
   ],
   "source": [
    "# Visualizing Activity Distribution\n",
    "temp = train[\"Activity\"].value_counts()\n",
    "df = pd.DataFrame({'labels': temp.index,\n",
    "                   'values': temp.values\n",
    "                  })\n",
    "\n",
    "labels = df['labels']\n",
    "sizes = df['values']\n",
    "colors = ['yellowgreen', 'gold', 'lightskyblue', 'lightcoral','cyan','lightpink']\n",
    "patches, texts = plt.pie(sizes, colors=colors, shadow=True, startangle=90, pctdistance=1.1, labeldistance=1.2)\n",
    "plt.legend(patches, labels, loc=\"best\")\n",
    "plt.axis('equal')\n",
    "plt.tight_layout()\n",
    "plt.show()"
   ],
   "metadata": {
    "collapsed": false,
    "pycharm": {
     "name": "#%%\n"
    }
   }
  },
  {
   "cell_type": "markdown",
   "source": [
    "### Label Distribution in a Column Format"
   ],
   "metadata": {
    "collapsed": false
   }
  },
  {
   "cell_type": "code",
   "execution_count": 7,
   "outputs": [
    {
     "data": {
      "text/plain": "col_0               count\nActivity                 \nLAYING               1407\nSITTING              1286\nSTANDING             1374\nWALKING              1226\nWALKING_DOWNSTAIRS    986\nWALKING_UPSTAIRS     1073",
      "text/html": "<div>\n<style scoped>\n    .dataframe tbody tr th:only-of-type {\n        vertical-align: middle;\n    }\n\n    .dataframe tbody tr th {\n        vertical-align: top;\n    }\n\n    .dataframe thead th {\n        text-align: right;\n    }\n</style>\n<table border=\"1\" class=\"dataframe\">\n  <thead>\n    <tr style=\"text-align: right;\">\n      <th>col_0</th>\n      <th>count</th>\n    </tr>\n    <tr>\n      <th>Activity</th>\n      <th></th>\n    </tr>\n  </thead>\n  <tbody>\n    <tr>\n      <th>LAYING</th>\n      <td>1407</td>\n    </tr>\n    <tr>\n      <th>SITTING</th>\n      <td>1286</td>\n    </tr>\n    <tr>\n      <th>STANDING</th>\n      <td>1374</td>\n    </tr>\n    <tr>\n      <th>WALKING</th>\n      <td>1226</td>\n    </tr>\n    <tr>\n      <th>WALKING_DOWNSTAIRS</th>\n      <td>986</td>\n    </tr>\n    <tr>\n      <th>WALKING_UPSTAIRS</th>\n      <td>1073</td>\n    </tr>\n  </tbody>\n</table>\n</div>"
     },
     "execution_count": 7,
     "metadata": {},
     "output_type": "execute_result"
    }
   ],
   "source": [
    "train_outcome = pd.crosstab(index=train[\"Activity\"],\n",
    "                              columns=\"count\")\n",
    "\n",
    "train_outcome"
   ],
   "metadata": {
    "collapsed": false,
    "pycharm": {
     "name": "#%%\n"
    }
   }
  },
  {
   "cell_type": "markdown",
   "source": [
    "# Data Pre-Processing\n",
    "\n",
    "The dataset only requires a small number of pre-processing mainly, splitting the sets into X and y variables, categorical\n",
    "variable encoding (for the label), and scaling.\n",
    "\n",
    "The *activity* and *subject* columns are removed from the training and test data. **Y_train_label** and **Y_test_label** are the classifications of the activity of each row in the respective dataframes."
   ],
   "metadata": {
    "collapsed": false
   }
  },
  {
   "cell_type": "code",
   "execution_count": 8,
   "outputs": [
    {
     "name": "stdout",
     "output_type": "stream",
     "text": [
      "Dimension of Train set (7352, 561)\n",
      "Dimension of Test set (2947, 561) \n",
      "\n",
      "Number of Continuous Features: 561\n"
     ]
    }
   ],
   "source": [
    "X_train = pd.DataFrame(train.drop(['Activity','subject'],axis=1))\n",
    "Y_train_label = train.Activity.values.astype(object)\n",
    "X_test = pd.DataFrame(test.drop(['Activity','subject'],axis=1))\n",
    "Y_test_label = test.Activity.values.astype(object)\n",
    "\n",
    "print(\"Dimension of Train set\",X_train.shape)\n",
    "print(\"Dimension of Test set\",X_test.shape,\"\\n\")\n",
    "\n",
    "# Transforming non numerical labels into numerical labels\n",
    "encoder = preprocessing.LabelEncoder()\n",
    "\n",
    "# encoding train labels\n",
    "encoder.fit(Y_train_label)\n",
    "Y_train = encoder.transform(Y_train_label)\n",
    "\n",
    "# encoding test labels\n",
    "encoder.fit(Y_test_label)\n",
    "Y_test = encoder.transform(Y_test_label)\n",
    "\n",
    "#Total Number of Continuous features in the training set\n",
    "num_cols = X_train._get_numeric_data().columns\n",
    "print(\"Number of Continuous Features:\",num_cols.size)\n",
    "\n",
    "#names_of_predictors = list(X_train.columns.values) #Names of each feature\n",
    "\n",
    "# Scaling the Train and Test feature set\n",
    "# Because - values and classification\n",
    "scaler = StandardScaler()\n",
    "X_train_scaled = scaler.fit_transform(X_train) #fit_transform is performed on training data\n",
    "X_test_scaled = scaler.transform(X_test) #transform is performed on test data"
   ],
   "metadata": {
    "collapsed": false,
    "pycharm": {
     "name": "#%%\n"
    }
   }
  },
  {
   "cell_type": "markdown",
   "source": [
    "# Different Model Comparison\n",
    "\n",
    "In this step we compare 3 classic ml models."
   ],
   "metadata": {
    "collapsed": false
   }
  },
  {
   "cell_type": "code",
   "execution_count": 9,
   "outputs": [
    {
     "name": "stdout",
     "output_type": "stream",
     "text": [
      "Learner: Gaussian Naive Bayes \n",
      "------\n",
      "Training Data\n",
      "Time taken: 0.08783650398254395 seconds\n",
      "Testing Data\n",
      "Time taken: 0.09599781036376953 seconds\n",
      "\n",
      "Accuracy Score\n",
      "0.7702748557855447\n",
      "\n",
      "Beta Score\n",
      "0.7802673518256884\n",
      "\n",
      "Precision Score\n",
      "0.7946833707399261\n",
      "\n",
      "Recall Score\n",
      "0.7702748557855447 \n",
      "\n",
      "Learner: AdaBoost \n",
      "------\n",
      "Training Data\n",
      "Time taken: 19.05275797843933 seconds\n",
      "Testing Data\n",
      "Time taken: 0.07099056243896484 seconds\n",
      "\n",
      "Accuracy Score\n",
      "0.5310485239226331\n",
      "\n",
      "Beta Score\n",
      "0.35512687797924963\n",
      "\n",
      "Precision Score\n",
      "0.33628556107901597\n",
      "\n",
      "Recall Score\n",
      "0.5310485239226331 \n",
      "\n",
      "Learner: Support Vector Machine \n",
      "------\n",
      "Training Data\n",
      "Time taken: 6.97590708732605 seconds\n",
      "Testing Data\n",
      "Time taken: 4.350911617279053 seconds\n",
      "\n",
      "Accuracy Score\n",
      "0.9518154054971157\n",
      "\n",
      "Beta Score\n",
      "0.9519494451924377\n",
      "\n",
      "Precision Score\n",
      "0.9522363133649081\n",
      "\n",
      "Recall Score\n",
      "0.9518154054971157 \n",
      "\n"
     ]
    },
    {
     "name": "stderr",
     "output_type": "stream",
     "text": [
      "c:\\users\\aiden williams\\appdata\\local\\programs\\python\\python37\\lib\\site-packages\\sklearn\\metrics\\classification.py:1143: UndefinedMetricWarning: F-score is ill-defined and being set to 0.0 in labels with no predicted samples.\n",
      "  'precision', 'predicted', average, warn_for)\n",
      "c:\\users\\aiden williams\\appdata\\local\\programs\\python\\python37\\lib\\site-packages\\sklearn\\metrics\\classification.py:1143: UndefinedMetricWarning: Precision is ill-defined and being set to 0.0 in labels with no predicted samples.\n",
      "  'precision', 'predicted', average, warn_for)\n"
     ]
    }
   ],
   "source": [
    "clf_A = GaussianNB()\n",
    "clf_B = AdaBoostClassifier(random_state=0)\n",
    "clf_C = SVC(random_state=0)\n",
    "\n",
    "learners = {}\n",
    "learners[\"Gaussian Naive Bayes\"] = clf_A\n",
    "learners[\"AdaBoost\"] = clf_B\n",
    "learners[\"Support Vector Machine\"] = clf_C\n",
    "\n",
    "def train_predict(learners, X_train, y_train, X_test, y_test):\n",
    "    for learner in learners:\n",
    "        print(\"Learner:\", learner,\"\\n------\")\n",
    "        print(\"Training Data\")\n",
    "        start = time()\n",
    "        learners[learner].fit(X_train, y_train)\n",
    "        end = time()\n",
    "        print(\"Time taken:\", end-start, \"seconds\")\n",
    "\n",
    "        print(\"Testing Data\")\n",
    "        start = time()\n",
    "        predictions_test = learners[learner].predict(X_test)\n",
    "        end = time()\n",
    "        print(\"Time taken:\", end-start, \"seconds\")\n",
    "\n",
    "\n",
    "        print(\"\\nAccuracy Score\")\n",
    "        print(accuracy_score(y_test,predictions_test))\n",
    "\n",
    "        print(\"\\nBeta Score\")\n",
    "        print(fbeta_score(y_test,predictions_test,beta=0.5,average='weighted'))\n",
    "\n",
    "        print(\"\\nPrecision Score\")\n",
    "        print(precision_score(y_test, predictions_test, average='weighted'))\n",
    "\n",
    "        print(\"\\nRecall Score\")\n",
    "        print(recall_score(y_test, predictions_test, average='weighted'),'\\n')\n",
    "\n",
    "train_predict(learners, X_train_scaled, Y_train, X_test_scaled, Y_test)"
   ],
   "metadata": {
    "collapsed": false,
    "pycharm": {
     "name": "#%%\n"
    }
   }
  },
  {
   "cell_type": "markdown",
   "source": [
    "As can be seen from the above metrics, SVM is quite clearly the most accurate classifier of the three, and it is for that reason that we will use it as one of the main classifiers for the group practical task"
   ],
   "metadata": {
    "collapsed": false
   }
  },
  {
   "cell_type": "markdown",
   "source": [
    "# Support Vector Classifier\n",
    "\n",
    "There are a number of different parameters we can apply to SVC in order to obtain the best results possible. These different parameters were passed through a Grid Search model, which applies all of them to train various SVCs."
   ],
   "metadata": {
    "collapsed": false
   }
  },
  {
   "cell_type": "code",
   "execution_count": 10,
   "outputs": [
    {
     "name": "stderr",
     "output_type": "stream",
     "text": [
      "c:\\users\\aiden williams\\appdata\\local\\programs\\python\\python37\\lib\\site-packages\\sklearn\\model_selection\\_split.py:1943: FutureWarning: You should specify a value for 'cv' instead of relying on the default value. The default value will change from 3 to 5 in version 0.22.\n",
      "  warnings.warn(CV_WARNING, FutureWarning)\n",
      "c:\\users\\aiden williams\\appdata\\local\\programs\\python\\python37\\lib\\site-packages\\sklearn\\metrics\\classification.py:1143: UndefinedMetricWarning: F-score is ill-defined and being set to 0.0 in labels with no predicted samples.\n",
      "  'precision', 'predicted', average, warn_for)\n",
      "c:\\users\\aiden williams\\appdata\\local\\programs\\python\\python37\\lib\\site-packages\\sklearn\\metrics\\classification.py:1143: UndefinedMetricWarning: F-score is ill-defined and being set to 0.0 in labels with no predicted samples.\n",
      "  'precision', 'predicted', average, warn_for)\n",
      "c:\\users\\aiden williams\\appdata\\local\\programs\\python\\python37\\lib\\site-packages\\sklearn\\metrics\\classification.py:1143: UndefinedMetricWarning: F-score is ill-defined and being set to 0.0 in labels with no predicted samples.\n",
      "  'precision', 'predicted', average, warn_for)\n",
      "c:\\users\\aiden williams\\appdata\\local\\programs\\python\\python37\\lib\\site-packages\\sklearn\\metrics\\classification.py:1143: UndefinedMetricWarning: F-score is ill-defined and being set to 0.0 in labels with no predicted samples.\n",
      "  'precision', 'predicted', average, warn_for)\n",
      "c:\\users\\aiden williams\\appdata\\local\\programs\\python\\python37\\lib\\site-packages\\sklearn\\metrics\\classification.py:1143: UndefinedMetricWarning: F-score is ill-defined and being set to 0.0 in labels with no predicted samples.\n",
      "  'precision', 'predicted', average, warn_for)\n",
      "c:\\users\\aiden williams\\appdata\\local\\programs\\python\\python37\\lib\\site-packages\\sklearn\\metrics\\classification.py:1143: UndefinedMetricWarning: F-score is ill-defined and being set to 0.0 in labels with no predicted samples.\n",
      "  'precision', 'predicted', average, warn_for)\n",
      "c:\\users\\aiden williams\\appdata\\local\\programs\\python\\python37\\lib\\site-packages\\sklearn\\metrics\\classification.py:1143: UndefinedMetricWarning: F-score is ill-defined and being set to 0.0 in labels with no predicted samples.\n",
      "  'precision', 'predicted', average, warn_for)\n",
      "c:\\users\\aiden williams\\appdata\\local\\programs\\python\\python37\\lib\\site-packages\\sklearn\\metrics\\classification.py:1143: UndefinedMetricWarning: F-score is ill-defined and being set to 0.0 in labels with no predicted samples.\n",
      "  'precision', 'predicted', average, warn_for)\n",
      "c:\\users\\aiden williams\\appdata\\local\\programs\\python\\python37\\lib\\site-packages\\sklearn\\metrics\\classification.py:1143: UndefinedMetricWarning: F-score is ill-defined and being set to 0.0 in labels with no predicted samples.\n",
      "  'precision', 'predicted', average, warn_for)\n",
      "c:\\users\\aiden williams\\appdata\\local\\programs\\python\\python37\\lib\\site-packages\\sklearn\\metrics\\classification.py:1143: UndefinedMetricWarning: F-score is ill-defined and being set to 0.0 in labels with no predicted samples.\n",
      "  'precision', 'predicted', average, warn_for)\n",
      "c:\\users\\aiden williams\\appdata\\local\\programs\\python\\python37\\lib\\site-packages\\sklearn\\metrics\\classification.py:1143: UndefinedMetricWarning: F-score is ill-defined and being set to 0.0 in labels with no predicted samples.\n",
      "  'precision', 'predicted', average, warn_for)\n",
      "c:\\users\\aiden williams\\appdata\\local\\programs\\python\\python37\\lib\\site-packages\\sklearn\\metrics\\classification.py:1143: UndefinedMetricWarning: F-score is ill-defined and being set to 0.0 in labels with no predicted samples.\n",
      "  'precision', 'predicted', average, warn_for)\n",
      "c:\\users\\aiden williams\\appdata\\local\\programs\\python\\python37\\lib\\site-packages\\sklearn\\metrics\\classification.py:1143: UndefinedMetricWarning: F-score is ill-defined and being set to 0.0 in labels with no predicted samples.\n",
      "  'precision', 'predicted', average, warn_for)\n",
      "c:\\users\\aiden williams\\appdata\\local\\programs\\python\\python37\\lib\\site-packages\\sklearn\\metrics\\classification.py:1143: UndefinedMetricWarning: F-score is ill-defined and being set to 0.0 in labels with no predicted samples.\n",
      "  'precision', 'predicted', average, warn_for)\n",
      "c:\\users\\aiden williams\\appdata\\local\\programs\\python\\python37\\lib\\site-packages\\sklearn\\metrics\\classification.py:1143: UndefinedMetricWarning: F-score is ill-defined and being set to 0.0 in labels with no predicted samples.\n",
      "  'precision', 'predicted', average, warn_for)\n",
      "c:\\users\\aiden williams\\appdata\\local\\programs\\python\\python37\\lib\\site-packages\\sklearn\\metrics\\classification.py:1143: UndefinedMetricWarning: Precision is ill-defined and being set to 0.0 in labels with no predicted samples.\n",
      "  'precision', 'predicted', average, warn_for)\n"
     ]
    },
    {
     "name": "stdout",
     "output_type": "stream",
     "text": [
      "Unoptimized model\n",
      "------\n",
      "Accuracy score on the testing data: 0.3081\n",
      "F-score on the testing data: 0.1388\n",
      "Precision score on the testing data: 0.3362\n",
      "Recall score on the testing data: 0.3081\n",
      "\n",
      "Optimized Model\n",
      "------\n",
      "Final accuracy score on the testing data: 0.9562\n",
      "Final F-score on the testing data: 0.9565\n",
      "Final precision score on the testing data: 0.9570\n",
      "Final recall score on the testing data: 0.9562\n"
     ]
    }
   ],
   "source": [
    "clf = SVC(random_state=0)\n",
    "\n",
    "parameters =    {\n",
    "                \"kernel\": ['poly', 'rbf', 'sigmoid'],\n",
    "                \"C\": [50, 10, 1.0, 0.1, 0.01],\n",
    "                \"gamma\": ['scale']\n",
    "                }\n",
    "\n",
    "scorer = make_scorer(fbeta_score, beta=0.5,average='weighted')\n",
    "grid_obj = GridSearchCV(clf, parameters, scoring=scorer)\n",
    "grid_fit = grid_obj.fit(X_train_scaled,Y_train)\n",
    "\n",
    "# Get the estimator\n",
    "best_clf = grid_fit.best_estimator_\n",
    "clf.fit(X_train_scaled, Y_train)\n",
    "# Make predictions using the unoptimized and model\n",
    "predictions = clf.predict(X_test)\n",
    "best_predictions = best_clf.predict(X_test_scaled)\n",
    "\n",
    "# Report the before-and-afterscores\n",
    "print(\"Unoptimized model\\n------\")\n",
    "print(\"Accuracy score on the testing data: {:.4f}\".format(accuracy_score(Y_test, predictions)))\n",
    "print(\"F-score on the testing data: {:.4f}\".format(fbeta_score(Y_test, predictions, beta = 0.5,average='weighted')))\n",
    "print(\"Precision score on the testing data: {:.4f}\".format(precision_score(Y_test, predictions, average='weighted')))\n",
    "print(\"Recall score on the testing data: {:.4f}\".format(recall_score(Y_test, predictions, average='weighted')))\n",
    "print(\"\\nOptimized Model\\n------\")\n",
    "print(\"Final accuracy score on the testing data: {:.4f}\".format(accuracy_score(Y_test, best_predictions)))\n",
    "print(\"Final F-score on the testing data: {:.4f}\".format(fbeta_score(Y_test, best_predictions, beta = 0.5,average='weighted')))\n",
    "print(\"Final precision score on the testing data: {:.4f}\".format(precision_score(Y_test, best_predictions, average='weighted')))\n",
    "print(\"Final recall score on the testing data: {:.4f}\".format(recall_score(Y_test, best_predictions, average='weighted')))"
   ],
   "metadata": {
    "collapsed": false,
    "pycharm": {
     "name": "#%%\n"
    }
   }
  },
  {
   "cell_type": "code",
   "execution_count": 13,
   "outputs": [
    {
     "data": {
      "text/plain": "<Figure size 432x288 with 2 Axes>",
      "image/png": "[encoded data removed]"
     },
     "metadata": {
      "needs_background": "light"
     },
     "output_type": "display_data"
    }
   ],
   "source": [
    "#Confusion Matrix maps out the predicted label given to the data with the actual label\n",
    "#Helps us check the rate of true/false positives and true/false negatives\n",
    "#parameters are the true labels, and the predicted labels\n",
    "\n",
    "# https://sklearn.org/auto_examples/model_selection/plot_confusion_matrix.html\n",
    "def plot_confusion_matrix(cm, classes,\n",
    "                          normalize=False,\n",
    "                          title='Confusion matrix',\n",
    "                          cmap=plt.cm.Blues):\n",
    "    \"\"\"\n",
    "    This function prints and plots the confusion matrix.\n",
    "    Normalization can be applied by setting `normalize=True`.\n",
    "    \"\"\"\n",
    "    if normalize:\n",
    "        cm = cm.astype('float') / cm.sum(axis=1)[:, np.newaxis]\n",
    "\n",
    "    plt.imshow(cm, interpolation='nearest', cmap=cmap)\n",
    "    plt.title(title)\n",
    "    plt.colorbar()\n",
    "    tick_marks = np.arange(len(classes))\n",
    "    plt.xticks(tick_marks, classes, rotation=45)\n",
    "    plt.yticks(tick_marks, classes)\n",
    "\n",
    "    fmt = '.2f' if normalize else 'd'\n",
    "    thresh = cm.max() / 2.\n",
    "    for i, j in itertools.product(range(cm.shape[0]), range(cm.shape[1])):\n",
    "        plt.text(j, i, format(cm[i, j], fmt),\n",
    "                 horizontalalignment=\"center\",\n",
    "                 color=\"white\" if cm[i, j] > thresh else \"black\")\n",
    "\n",
    "    plt.tight_layout()\n",
    "    plt.ylabel('True label')\n",
    "    plt.xlabel('Predicted label')\n",
    "\n",
    "\n",
    "cnf_matrix = confusion_matrix(Y_test, best_predictions)\n",
    "np.set_printoptions(precision=2)\n",
    "\n",
    "classes =    {\n",
    "                        \"WALKING\":0,\n",
    "                        \"WALKING_DOWNSTAIRS\":1,\n",
    "                        \"WALKING_UPSTAIRS\":2,\n",
    "                        \"LAYING\":3,\n",
    "                        \"SITTING\":4,\n",
    "                        \"STANDING\":5\n",
    "                    }\n",
    "\n",
    "# Plot non-normalized confusion matrix\n",
    "plt.figure()\n",
    "plot_confusion_matrix(cnf_matrix, classes=classes, normalize=True,title='Confusion matrix')\n"
   ],
   "metadata": {
    "collapsed": false,
    "pycharm": {
     "name": "#%%\n"
    }
   }
  },
  {
   "cell_type": "code",
   "execution_count": 12,
   "outputs": [
    {
     "name": "stdout",
     "output_type": "stream",
     "text": [
      "The best parameters were: {'C': 50, 'gamma': 'scale', 'kernel': 'rbf'}\n"
     ]
    }
   ],
   "source": [
    "print(\"The best parameters were:\", grid_fit.best_params_)\n"
   ],
   "metadata": {
    "collapsed": false,
    "pycharm": {
     "name": "#%%\n"
    }
   }
  }
 ],
 "metadata": {
  "kernelspec": {
   "display_name": "Python 3",
   "language": "python",
   "name": "python3"
  },
  "language_info": {
   "codemirror_mode": {
    "name": "ipython",
    "version": 2
   },
   "file_extension": ".py",
   "mimetype": "text/x-python",
   "name": "python",
   "nbconvert_exporter": "python",
   "pygments_lexer": "ipython2",
   "version": "2.7.6"
  }
 },
 "nbformat": 4,
 "nbformat_minor": 0
}