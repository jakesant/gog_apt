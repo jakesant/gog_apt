{
 "cells": [
  {
   "cell_type": "markdown",
   "source": [
    "# Convolutional Neural Networks for Human Activity Recognition\n",
    "***\n",
    "# Table of Contents\n",
    "\n",
    "# Imports"
   ],
   "metadata": {
    "collapsed": false
   }
  },
  {
   "cell_type": "code",
   "execution_count": null,
   "outputs": [],
   "source": [
    "import torch\n",
    "import numpy as np\n",
    "import pandas as pd\n",
    "from torch.nn import Linear, Conv1d, MaxPool1d, Module, CrossEntropyLoss, Dropout, ReLU, Flatten, Sequential, Softmax\n",
    "from torch.optim import Adam\n",
    "from torch.utils.data import Dataset\n",
    "import torch.nn.functional as F"
   ],
   "metadata": {
    "collapsed": false,
    "pycharm": {
     "name": "#%%\n"
    }
   }
  },
  {
   "cell_type": "markdown",
   "source": [
    "# Encoding Map"
   ],
   "metadata": {
    "collapsed": false
   }
  },
  {
   "cell_type": "code",
   "execution_count": null,
   "outputs": [],
   "source": [
    "dynamic_encode =    {\n",
    "                        \"WALKING\":0,\n",
    "                        \"WALKING_DOWNSTAIRS\":1,\n",
    "                        \"WALKING_UPSTAIRS\":2,\n",
    "                        \"LAYING\":3,\n",
    "                        \"SITTING\":4,\n",
    "                        \"STANDING\":5\n",
    "                    }\n",
    "\n",
    "static_encode =     {\n",
    "                        \"LAYING\":0,\n",
    "                        \"SITTING\":1,\n",
    "                        \"STANDING\":2,\n",
    "                        \"WALKING\":3,\n",
    "                        \"WALKING_DOWNSTAIRS\":4,\n",
    "                        \"WALKING_UPSTAIRS\":5\n",
    "                    }"
   ],
   "metadata": {
    "collapsed": false,
    "pycharm": {
     "name": "#%%\n"
    }
   }
  },
  {
   "cell_type": "markdown",
   "source": [
    "# Creating PyTorch Datasets"
   ],
   "metadata": {
    "collapsed": false
   }
  },
  {
   "cell_type": "markdown",
   "source": [
    "## Static Dataset"
   ],
   "metadata": {
    "collapsed": false,
    "pycharm": {
     "name": "#%% md\n"
    }
   }
  },
  {
   "cell_type": "code",
   "execution_count": null,
   "outputs": [],
   "source": [
    "class UCI_Static_Dataset(Dataset):\n",
    "    \"\"\"UCI dataset.\"\"\"\n",
    "\n",
    "    def __init__(self, csv_file):\n",
    "\n",
    "        data = pd.read_csv(csv_file)\n",
    "        data['Activity'] = data['Activity'].map(static_encode)\n",
    "        data, _ = [x for _, x in data.groupby(data['Activity'] > 2)]\n",
    "        self.data_y = data['Activity'].values\n",
    "        data = pd.DataFrame(data.drop(['Activity','subject'],axis=1))\n",
    "        self.data_x = np.array(data)\n",
    "        # [batch, channels, features]\n",
    "        self.data_x = self.data_x.reshape(len(self.data_x), 1, 561)\n",
    "        self.data_x  = torch.from_numpy(self.data_x)\n",
    "        self.data_y = self.data_y.astype(int)\n",
    "        self.data_y = torch.from_numpy(self.data_y)\n",
    "\n",
    "    def __len__(self):\n",
    "        return len(self.data_x)\n",
    "\n",
    "    def __getitem__(self, idx):\n",
    "        return self.data_x[idx], self.data_y[idx]"
   ],
   "metadata": {
    "collapsed": false,
    "pycharm": {
     "name": "#%%\n"
    }
   }
  },
  {
   "cell_type": "markdown",
   "source": [
    "## Dynamic Dataset"
   ],
   "metadata": {
    "collapsed": false
   }
  },
  {
   "cell_type": "code",
   "execution_count": null,
   "outputs": [],
   "source": [
    "class UCI_Dynamic_Dataset(Dataset):\n",
    "    \"\"\"UCI dataset.\"\"\"\n",
    "\n",
    "    def __init__(self, csv_file):\n",
    "        data = pd.read_csv(csv_file)\n",
    "        data['Activity'] = data['Activity'].map(dynamic_encode)\n",
    "        data, _ = [x for _, x in data.groupby(data['Activity'] > 2)]\n",
    "        self.data_y = data['Activity'].values\n",
    "        data = pd.DataFrame(data.drop(['Activity','subject'],axis=1))\n",
    "        self.data_x = np.array(data)\n",
    "        # [batch, channels, features]\n",
    "        self.data_x = self.data_x.reshape(len(self.data_x), 1, 561)\n",
    "        self.data_x  = torch.from_numpy(self.data_x)\n",
    "        self.data_y = self.data_y.astype(int)\n",
    "        self.data_y = torch.from_numpy(self.data_y)\n",
    "\n",
    "    def __len__(self):\n",
    "        return len(self.data_x)\n",
    "\n",
    "    def __getitem__(self, idx):\n",
    "        return self.data_x[idx], self.data_y[idx]\n"
   ],
   "metadata": {
    "collapsed": false,
    "pycharm": {
     "name": "#%%\n"
    }
   }
  },
  {
   "cell_type": "markdown",
   "source": [
    "# Loading in the Data"
   ],
   "metadata": {
    "collapsed": false
   }
  },
  {
   "cell_type": "code",
   "execution_count": null,
   "outputs": [],
   "source": [
    "data = {\n",
    "        \"dynamic\":  {\n",
    "                    \"train\":    UCI_Dynamic_Dataset(csv_file='train.csv'),\n",
    "                    \"valid:\":   UCI_Dynamic_Dataset(csv_file='valid.csv'),\n",
    "                    \"test:\":    UCI_Dynamic_Dataset(csv_file='test.csv')\n",
    "                    } ,\n",
    "        \"static\":   {\n",
    "                    \"train\":    UCI_Static_Dataset(csv_file='train.csv'),\n",
    "                    \"valid:\":   UCI_Static_Dataset(csv_file='valid.csv'),\n",
    "                    \"test:\":    UCI_Static_Dataset(csv_file='test.csv')\n",
    "                    }\n",
    "        }\n"
   ],
   "metadata": {
    "collapsed": false,
    "pycharm": {
     "name": "#%%\n"
    }
   }
  },
  {
   "cell_type": "markdown",
   "source": [
    "# Trainloaders"
   ],
   "metadata": {
    "collapsed": false
   }
  },
  {
   "cell_type": "code",
   "execution_count": null,
   "outputs": [],
   "source": [
    "loader = {\n",
    "        \"dynamic\":  {\n",
    "                    \"train\":    torch.utils.data.DataLoader(data[\"dynamic\"][\"train\"], batch_size=64, shuffle=True),\n",
    "                    \"valid:\":   torch.utils.data.DataLoader(data[\"dynamic\"][\"valid\"], batch_size=64, shuffle=True),\n",
    "                    \"test:\":    torch.utils.data.DataLoader(data[\"dynamic\"][\"test\"], batch_size=64, shuffle=True)\n",
    "                    } ,\n",
    "        \"static\":   {\n",
    "                    \"train\":    torch.utils.data.DataLoader(data[\"static\"][\"train\"], batch_size=32, shuffle=True),\n",
    "                    \"valid:\":   torch.utils.data.DataLoader(data[\"static\"][\"valid\"], batch_size=32, shuffle=True),\n",
    "                    \"test:\":    torch.utils.data.DataLoader(data[\"static\"][\"test\"], batch_size=32, shuffle=True)\n",
    "                    }\n",
    "        }"
   ],
   "metadata": {
    "collapsed": false,
    "pycharm": {
     "name": "#%%\n"
    }
   }
  },
  {
   "cell_type": "markdown",
   "source": [
    "# The CNN Models"
   ],
   "metadata": {
    "collapsed": false
   }
  },
  {
   "cell_type": "markdown",
   "source": [
    "# Static"
   ],
   "metadata": {
    "collapsed": false
   }
  },
  {
   "cell_type": "code",
   "execution_count": null,
   "outputs": [],
   "source": [
    "class StaticCNN(Module):\n",
    "    def __init__(self):\n",
    "        super(StaticCNN, self).__init__()\n",
    "\n",
    "        self.cnn_layers = Sequential(\n",
    "            Conv1d(1, 30, kernel_size=tuple([3])),\n",
    "            ReLU(),\n",
    "            Conv1d(30, 50, kernel_size=tuple([3])),\n",
    "            ReLU(),\n",
    "            Conv1d(50, 100, kernel_size=tuple([3])),\n",
    "            ReLU(),\n",
    "            Flatten()\n",
    "        )\n",
    "\n",
    "        self.linear_layers = Sequential(\n",
    "            Dropout(0.5),\n",
    "            Linear(55500, 3),\n",
    "            Softmax(dim=1)\n",
    "        )\n",
    "\n",
    "    # Defining the forward pass\n",
    "    def forward(self, x):\n",
    "        x = self.cnn_layers(x)\n",
    "        x = self.linear_layers(x)\n",
    "        return x"
   ],
   "metadata": {
    "collapsed": false,
    "pycharm": {
     "name": "#%%\n"
    }
   }
  },
  {
   "cell_type": "markdown",
   "source": [
    "# Dynamic"
   ],
   "metadata": {
    "collapsed": false
   }
  },
  {
   "cell_type": "code",
   "execution_count": null,
   "outputs": [],
   "source": [
    "class DynamicCNN(Module):\n",
    "    def __init__(self):\n",
    "        super(DynamicCNN, self).__init__()\n",
    "\n",
    "        self.conv1 = Conv1d(1, 100, kernel_size=tuple([3]))\n",
    "        self.pool =  MaxPool1d(kernel_size=tuple([3]))\n",
    "        self.fc = Linear(18600, 3)\n",
    "        self.dropout = Dropout(0.5)\n",
    "\n",
    "    # Defining the forward pass\n",
    "    def forward(self, x):\n",
    "        x = self.pool(F.relu(self.conv1(x)))\n",
    "        x = x.view(-1, 1 * 100 * 186)\n",
    "        x = self.dropout(F.softmax(self.fc(x), dim=1))\n",
    "        return x"
   ],
   "metadata": {
    "collapsed": false,
    "pycharm": {
     "name": "#%%\n"
    }
   }
  }
 ],
 "metadata": {
  "kernelspec": {
   "display_name": "Python 3",
   "language": "python",
   "name": "python3"
  },
  "language_info": {
   "codemirror_mode": {
    "name": "ipython",
    "version": 2
   },
   "file_extension": ".py",
   "mimetype": "text/x-python",
   "name": "python",
   "nbconvert_exporter": "python",
   "pygments_lexer": "ipython2",
   "version": "2.7.6"
  }
 },
 "nbformat": 4,
 "nbformat_minor": 0
}