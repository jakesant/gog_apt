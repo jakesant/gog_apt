{
 "cells": [
  {
   "cell_type": "markdown",
   "source": [
    "# Dynamic Convolutional Neural Network\n",
    "***\n",
    "# Table of Contents\n",
    "1.   [Imports](#Imports)\n",
    "2.   [Dataset Object](#Dataset-Object)\n",
    "3.   [Data Loading](#Data-Loading)\n",
    "4.   [Model](#Model)\n",
    "5.   [Setup](#Setup)\n",
    "6.   [Training](#Training)\n",
    "7.   [Testing](#Testing)"
   ],
   "metadata": {
    "collapsed": false
   }
  },
  {
   "cell_type": "markdown",
   "source": [
    "# Imports\n",
    "\n",
    "The necessary libraries are imported at this stage.\n",
    "\n",
    "* torch - Python pytorch library used to create and train the CNN\n",
    "* numpy - Efficient data arrays\n",
    "* pandas - Data applications\n",
    "* sklearn - Provides a number of models, metrics and general functionality for machine learning.\n",
    "* matplotlib - Provides plotting."
   ],
   "metadata": {
    "collapsed": false
   }
  },
  {
   "cell_type": "code",
   "execution_count": 12,
   "outputs": [],
   "source": [
    "import torch\n",
    "import numpy as np\n",
    "import pandas as pd\n",
    "from torch.nn import Linear, Conv1d, MaxPool1d, Module, CrossEntropyLoss, Dropout\n",
    "from torch.optim import Adam\n",
    "from torch.utils.data import Dataset\n",
    "import torch.nn.functional as F\n",
    "from sklearn.metrics import accuracy_score, fbeta_score, precision_score, recall_score, confusion_matrix\n",
    "import itertools\n",
    "import matplotlib.pyplot as plt"
   ],
   "metadata": {
    "collapsed": false,
    "pycharm": {
     "name": "#%%\n"
    }
   }
  },
  {
   "cell_type": "markdown",
   "source": [
    "# Dataset Object\n",
    "\n",
    "Although not fully required it is helpful to create a custom torch.utils.data.Dataset when using the pytorch library.\n",
    "This makes the splitting and feeding of data into the network easier.\n",
    "\n",
    "## Encoding\n",
    "\n",
    "A dict is defined 0-2 for the Dynamic activities in the dataset."
   ],
   "metadata": {
    "collapsed": false
   }
  },
  {
   "cell_type": "code",
   "execution_count": 13,
   "outputs": [],
   "source": [
    "activity_encode =   {\n",
    "                        \"WALKING\": 0,\n",
    "                        \"STAIRS DN\": 1,\n",
    "                        \"STAIRS UP\": 2,\n",
    "                        \"DRIVING\": 3,\n",
    "                        \"LAYING\":4,\n",
    "                        \"SITTING\":5,\n",
    "                        \"STANDING\":6\n",
    "                    }"
   ],
   "metadata": {
    "collapsed": false,
    "pycharm": {
     "name": "#%%\n"
    }
   }
  },
  {
   "cell_type": "markdown",
   "source": [
    "## Dataset\n",
    "\n",
    "The object is defined as below for the UCI dataset. 3 functions need to be implemented **__init__**, **__len__** and\n",
    "**__getitem__**.\n",
    "\n",
    "In initialisation the data is split into X and y variables and turned into tensors.\n",
    "\n",
    "The X variable has shape (row_count, 1, feature_count). 1 since there is only one channel of data.\n",
    "\n",
    "The static features are removed."
   ],
   "metadata": {
    "collapsed": false
   }
  },
  {
   "cell_type": "code",
   "execution_count": 14,
   "outputs": [],
   "source": [
    "class UCI_Dynamic_Dataset(Dataset):\n",
    "    \"\"\"UCI dataset.\"\"\"\n",
    "\n",
    "    def __init__(self, csv_file):\n",
    "        data = pd.read_csv(csv_file)\n",
    "        data['Label'] = data['Label'].map(activity_encode)\n",
    "        data, _ = [x for _, x in data.groupby(data['Label'] > 2)]\n",
    "        self.data_y = data['Label'].values\n",
    "        data = pd.DataFrame(data.drop(['Label'],axis=1))\n",
    "        self.data_x = np.array(data)\n",
    "        # [batch, channels, features]\n",
    "        self.data_x = self.data_x.reshape(len(self.data_x), 1, 359)\n",
    "        self.data_x  = torch.from_numpy(self.data_x)\n",
    "        self.data_y = self.data_y.astype(int)\n",
    "        self.data_y = torch.from_numpy(self.data_y)\n",
    "\n",
    "    def __len__(self):\n",
    "        return len(self.data_x)\n",
    "\n",
    "    def __getitem__(self, idx):\n",
    "        return self.data_x[idx], self.data_y[idx]"
   ],
   "metadata": {
    "collapsed": false,
    "pycharm": {
     "name": "#%%\n"
    }
   }
  },
  {
   "cell_type": "markdown",
   "source": [
    "Initialise the 3 datasets that will be used.\n",
    "\n",
    "# 80 train 20 valid"
   ],
   "metadata": {
    "collapsed": false
   }
  },
  {
   "cell_type": "code",
   "execution_count": 15,
   "outputs": [],
   "source": [
    "train_data = UCI_Dynamic_Dataset(csv_file='Our Dataset/train.csv')\n",
    "valid_data = UCI_Dynamic_Dataset(csv_file='Our Dataset/valid.csv')\n",
    "test_data = UCI_Dynamic_Dataset(csv_file='Our Dataset/test.csv')"
   ],
   "metadata": {
    "collapsed": false,
    "pycharm": {
     "name": "#%%\n"
    }
   }
  },
  {
   "cell_type": "markdown",
   "source": [
    "# Data Loading\n",
    "\n",
    "Using the DataLoader object load in the data, shuffling and assigning a batch size of 64."
   ],
   "metadata": {
    "collapsed": false
   }
  },
  {
   "cell_type": "code",
   "execution_count": 16,
   "outputs": [],
   "source": [
    "trainloader = torch.utils.data.DataLoader(train_data, batch_size=64)\n",
    "validloader = torch.utils.data.DataLoader(valid_data, batch_size=64)\n",
    "testloader = torch.utils.data.DataLoader(test_data, batch_size=64)\n",
    "# def draw(csv):\n",
    "#     data = pd.read_csv(csv)\n",
    "#     data['Label'] = data['Label'].map(activity_encode)\n",
    "#     data, _ = [x for _, x in data.groupby(data['Label'] > 2)]\n",
    "#     temp = data[\"Label\"].value_counts()\n",
    "#     df = pd.DataFrame({'labels': temp.index,\n",
    "#                        'values': temp.values\n",
    "#                       })\n",
    "#\n",
    "#     labels = df['labels']\n",
    "#     sizes = df['values']\n",
    "#     colors = ['yellowgreen', 'gold', 'lightskyblue']\n",
    "#     patches, texts = plt.pie(sizes, colors=colors, shadow=True, startangle=90, pctdistance=1.1, labeldistance=1.2)\n",
    "#     plt.legend(patches, labels, loc=\"best\")\n",
    "#     plt.axis('equal')\n",
    "#     plt.tight_layout()\n",
    "#     plt.show()\n",
    "# draw('Our Dataset/train.csv')\n",
    "# draw('Our Dataset/valid.csv')\n",
    "# draw('Our Dataset/test.csv')"
   ],
   "metadata": {
    "collapsed": false,
    "pycharm": {
     "name": "#%%\n"
    }
   }
  },
  {
   "cell_type": "markdown",
   "source": [
    "# Model\n",
    "\n",
    "The Dynamic CNN is implemented below, documentation is provided in the report."
   ],
   "metadata": {
    "collapsed": false
   }
  },
  {
   "cell_type": "code",
   "execution_count": 17,
   "outputs": [],
   "source": [
    "class DynamicCNN(Module):\n",
    "    def __init__(self):\n",
    "        super(DynamicCNN, self).__init__()\n",
    "\n",
    "        self.conv1 = Conv1d(1, 100, kernel_size=tuple([3]))\n",
    "        self.pool = MaxPool1d(kernel_size=tuple([3]))\n",
    "        self.fc = Linear(11900, 3)\n",
    "        self.dropout = Dropout(0.5)\n",
    "\n",
    "    # Defining the forward pass\n",
    "    def forward(self, x):\n",
    "        #print(x.size()) #([64, 1, 325])\n",
    "        x = self.pool(F.relu(self.conv1(x)))\n",
    "        #print(x.size()) #([64, 100, 119])\n",
    "        x = x.view(-1, 11900)\n",
    "        #print(x.size()) #([64, 11900])\n",
    "        x = self.dropout(F.softmax(self.fc(x), dim=1))\n",
    "        #print(x.size()) #([64, 4])\n",
    "        return x"
   ],
   "metadata": {
    "collapsed": false,
    "pycharm": {
     "name": "#%%\n"
    }
   }
  },
  {
   "cell_type": "markdown",
   "source": [
    "# Setup\n",
    "\n",
    "In this step we intiialise the loss, optimizer and model objects. For this problem we used cross entropy loss and the\n",
    "adam optimizer.\n",
    "\n",
    "If found we use cuda GPU acceleration to make the process faster."
   ],
   "metadata": {
    "collapsed": false
   }
  },
  {
   "cell_type": "code",
   "execution_count": 18,
   "outputs": [
    {
     "data": {
      "text/plain": "DynamicCNN(\n  (conv1): Conv1d(1, 100, kernel_size=(3,), stride=(1,))\n  (pool): MaxPool1d(kernel_size=(3,), stride=(3,), padding=0, dilation=1, ceil_mode=False)\n  (fc): Linear(in_features=11900, out_features=3, bias=True)\n  (dropout): Dropout(p=0.5, inplace=False)\n)"
     },
     "execution_count": 18,
     "metadata": {},
     "output_type": "execute_result"
    }
   ],
   "source": [
    "criterion = CrossEntropyLoss()\n",
    "device = \"cuda\" if torch.cuda.is_available() else \"cpu\"\n",
    "\n",
    "model = DynamicCNN().double()\n",
    "epochs = 5\n",
    "\n",
    "step = 1\n",
    "optimizer = Adam(model.parameters(), lr=0.01)\n",
    "model.to(device)"
   ],
   "metadata": {
    "collapsed": false,
    "pycharm": {
     "name": "#%%\n"
    }
   }
  },
  {
   "cell_type": "markdown",
   "source": [
    "# Training\n",
    "\n",
    "In this step the model is trained. Validation is done so we can observe the progress."
   ],
   "metadata": {
    "collapsed": false
   }
  },
  {
   "cell_type": "code",
   "execution_count": 19,
   "outputs": [
    {
     "name": "stdout",
     "output_type": "stream",
     "text": [
      "Epoch 0/4\n",
      "----------\n",
      "train Loss: 0.0187\n",
      "val Loss: 0.0171\n",
      "Epoch 1/4\n",
      "----------\n",
      "train Loss: 0.0185\n",
      "val Loss: 0.0171\n",
      "Epoch 2/4\n",
      "----------\n",
      "train Loss: 0.0184\n",
      "val Loss: 0.0171\n",
      "Epoch 3/4\n",
      "----------\n",
      "train Loss: 0.0184\n",
      "val Loss: 0.0171\n",
      "Epoch 4/4\n",
      "----------\n",
      "train Loss: 0.0186\n",
      "val Loss: 0.0171\n"
     ]
    }
   ],
   "source": [
    "data_loaders = {}\n",
    "data_loaders['train'] = trainloader\n",
    "data_loaders['val'] = validloader\n",
    "data_lengths = {\"train\": len(train_data), \"val\": len(valid_data)}\n",
    "for epoch in range(epochs):\n",
    "    if (epoch+1) % step == 0:\n",
    "        print('Epoch {}/{}'.format(epoch, epochs - 1))\n",
    "        print('-' * 10)\n",
    "\n",
    "    # Each epoch has a training and validation phase\n",
    "    for phase in ['train', 'val']:\n",
    "        if phase == 'train':\n",
    "            model.train(True)  # Set model to training mode\n",
    "        else:\n",
    "            model.train(False)  # Set model to evaluate mode\n",
    "\n",
    "        running_loss = 0.0\n",
    "\n",
    "        # Iterate over data.\n",
    "        for data in data_loaders[phase]:\n",
    "            inputs, labels = data\n",
    "            inputs, labels = inputs.to(device).double(), labels.to(device).long()\n",
    "            # forward pass to get outputs\n",
    "            output = model(inputs)\n",
    "\n",
    "            # calculate the loss between predicted and target keypoints\n",
    "            loss = criterion(output, labels)\n",
    "\n",
    "            # zero the parameter (weight) gradients\n",
    "            optimizer.zero_grad()\n",
    "\n",
    "            # backward + optimize only if in training phase\n",
    "            if phase == 'train':\n",
    "                loss.backward()\n",
    "                # update the weights\n",
    "                optimizer.step()\n",
    "\n",
    "            # print loss statistics\n",
    "            running_loss += loss.item()\n",
    "\n",
    "        epoch_loss = running_loss / data_lengths[phase]\n",
    "        if (epoch+1) % step == 0:\n",
    "            print('{} Loss: {:.4f}'.format(phase, epoch_loss))"
   ],
   "metadata": {
    "collapsed": false,
    "pycharm": {
     "name": "#%%\n"
    }
   }
  },
  {
   "cell_type": "markdown",
   "source": [
    "# Testing\n",
    "\n",
    "Finally the model is tested on the test set."
   ],
   "metadata": {
    "collapsed": false
   }
  },
  {
   "cell_type": "code",
   "execution_count": 20,
   "outputs": [],
   "source": [
    "correct = 0\n",
    "total = 0\n",
    "model.cpu()\n",
    "predictions = []\n",
    "test_labels = []\n",
    "with torch.no_grad():\n",
    "    for inputs, labels in testloader:\n",
    "        inputs, labels = inputs.double(), labels.long()\n",
    "        outputs = model(inputs)\n",
    "        _, predicted = torch.max(outputs.data, 1)\n",
    "        for p in predicted:\n",
    "            predictions.append(p)\n",
    "\n",
    "        for l in labels:\n",
    "            test_labels.append(l)\n"
   ],
   "metadata": {
    "collapsed": false,
    "pycharm": {
     "name": "#%%\n"
    }
   }
  },
  {
   "cell_type": "code",
   "execution_count": 21,
   "outputs": [
    {
     "data": {
      "text/plain": "<Figure size 432x288 with 2 Axes>",
      "image/png": "[encoded data removed]"
     },
     "metadata": {
      "needs_background": "light"
     },
     "output_type": "display_data"
    }
   ],
   "source": [
    "#Confusion Matrix maps out the predicted label given to the data with the actual label\n",
    "#Helps us check the rate of true/false positives and true/false negatives\n",
    "#parameters are the true labels, and the predicted labels\n",
    "\n",
    "# https://sklearn.org/auto_examples/model_selection/plot_confusion_matrix.html\n",
    "def plot_confusion_matrix(cm, classes,\n",
    "                          normalize=False,\n",
    "                          title='Confusion matrix',\n",
    "                          cmap=plt.cm.Blues):\n",
    "    \"\"\"\n",
    "    This function prints and plots the confusion matrix.\n",
    "    Normalization can be applied by setting `normalize=True`.\n",
    "    \"\"\"\n",
    "    if normalize:\n",
    "        cm = cm.astype('float') / cm.sum(axis=1)[:, np.newaxis]\n",
    "\n",
    "    plt.imshow(cm, interpolation='nearest', cmap=cmap)\n",
    "    plt.title(title)\n",
    "    plt.colorbar()\n",
    "    tick_marks = np.arange(len(classes))\n",
    "    plt.xticks(tick_marks, classes, rotation=45)\n",
    "    plt.yticks(tick_marks, classes)\n",
    "\n",
    "    fmt = '.2f' if normalize else 'd'\n",
    "    thresh = cm.max() / 2.\n",
    "    for i, j in itertools.product(range(cm.shape[0]), range(cm.shape[1])):\n",
    "        plt.text(j, i, format(cm[i, j], fmt),\n",
    "                 horizontalalignment=\"center\",\n",
    "                 color=\"white\" if cm[i, j] > thresh else \"black\")\n",
    "\n",
    "    plt.tight_layout()\n",
    "    plt.ylabel('True label')\n",
    "    plt.xlabel('Predicted label')\n",
    "\n",
    "\n",
    "cnf_matrix = confusion_matrix(test_labels, predictions)\n",
    "np.set_printoptions(precision=2)\n",
    "\n",
    "classes =    {\n",
    "                        \"WALKING\": 0,\n",
    "                        \"STAIRS DN\":1,\n",
    "                        \"STAIRS UP\":2,\n",
    "                    }\n",
    "# Plot non-normalized confusion matrix\n",
    "plt.figure()\n",
    "plot_confusion_matrix(cnf_matrix, classes=classes, normalize=True,title='Confusion matrix')\n"
   ],
   "metadata": {
    "collapsed": false,
    "pycharm": {
     "name": "#%%\n"
    }
   }
  },
  {
   "cell_type": "code",
   "execution_count": 22,
   "outputs": [
    {
     "name": "stdout",
     "output_type": "stream",
     "text": [
      "Final accuracy score on the testing data: 0.5422\n",
      "Final F-score on the testing data: 0.3236\n",
      "Final precision score on the testing data: 0.2940\n",
      "Final recall score on the testing data: 0.5422\n"
     ]
    },
    {
     "name": "stderr",
     "output_type": "stream",
     "text": [
      "c:\\users\\aiden williams\\appdata\\local\\programs\\python\\python37\\lib\\site-packages\\sklearn\\metrics\\classification.py:1143: UndefinedMetricWarning: F-score is ill-defined and being set to 0.0 in labels with no predicted samples.\n",
      "  'precision', 'predicted', average, warn_for)\n",
      "c:\\users\\aiden williams\\appdata\\local\\programs\\python\\python37\\lib\\site-packages\\sklearn\\metrics\\classification.py:1143: UndefinedMetricWarning: Precision is ill-defined and being set to 0.0 in labels with no predicted samples.\n",
      "  'precision', 'predicted', average, warn_for)\n"
     ]
    }
   ],
   "source": [
    "print(\"Final accuracy score on the testing data: {:.4f}\".format(accuracy_score(test_labels, predictions)))\n",
    "print(\"Final F-score on the testing data: {:.4f}\".format(fbeta_score(test_labels, predictions, beta = 0.5,average='weighted')))\n",
    "print(\"Final precision score on the testing data: {:.4f}\".format(precision_score(test_labels, predictions, average='weighted')))\n",
    "print(\"Final recall score on the testing data: {:.4f}\".format(recall_score(test_labels, predictions, average='weighted')))\n",
    "\n",
    "\n",
    "\n"
   ],
   "metadata": {
    "collapsed": false,
    "pycharm": {
     "name": "#%%\n"
    }
   }
  }
 ],
 "metadata": {
  "kernelspec": {
   "display_name": "Python 3",
   "language": "python",
   "name": "python3"
  },
  "language_info": {
   "codemirror_mode": {
    "name": "ipython",
    "version": 2
   },
   "file_extension": ".py",
   "mimetype": "text/x-python",
   "name": "python",
   "nbconvert_exporter": "python",
   "pygments_lexer": "ipython2",
   "version": "2.7.6"
  }
 },
 "nbformat": 4,
 "nbformat_minor": 0
}